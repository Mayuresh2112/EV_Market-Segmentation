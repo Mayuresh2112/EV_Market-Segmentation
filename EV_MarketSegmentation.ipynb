{
  "nbformat": 4,
  "nbformat_minor": 0,
  "metadata": {
    "colab": {
      "name": "EV_MarketSegmentation.ipynb",
      "provenance": [],
      "collapsed_sections": []
    },
    "kernelspec": {
      "name": "python3",
      "display_name": "Python 3"
    },
    "language_info": {
      "name": "python"
    }
  },
  "cells": [
    {
      "cell_type": "code",
      "execution_count": 24,
      "metadata": {
        "id": "Y7LlHAR3QTrx"
      },
      "outputs": [],
      "source": [
        "import numpy as np                                                 \n",
        "import pandas as pd                                                \n",
        "import pandas_profiling                                            \n",
        "import matplotlib.pyplot as plt                                    \n",
        "import seaborn as sns"
      ]
    },
    {
      "cell_type": "code",
      "source": [
        "data=pd.read_csv('/content/cardetail.csv')\n",
        "data.head()\n"
      ],
      "metadata": {
        "colab": {
          "base_uri": "https://localhost:8080/",
          "height": 354
        },
        "id": "3xaysxPNEpqd",
        "outputId": "dd33fa0a-5d5e-4ac5-b486-34a45c4b97d5"
      },
      "execution_count": 25,
      "outputs": [
        {
          "output_type": "execute_result",
          "data": {
            "text/plain": [
              "   Age        City Gender Education Level            Occupation  \\\n",
              "0    29    Kolkata   Male    Postgraduate  Working Professional   \n",
              "1    29     Mumbai   Male        Graduate  Working Professional   \n",
              "2    25     Mumbai   Male        Graduate  Working Professional   \n",
              "3    25  Bangalore   Male        Graduate  Working Professional   \n",
              "4    21     Mumbai   Male    Postgraduate               Student   \n",
              "\n",
              "   Family Members  Annual Income  Charging Hours Electric Cars are economical  \\\n",
              "0               5         150000               1                          Yes   \n",
              "1               4        1000000               1                          Yes   \n",
              "2               4           5000               5                          Yes   \n",
              "3               4         750000               1                   Don't know   \n",
              "4               4           5000              12                   Don't know   \n",
              "\n",
              "   Charging stations Convert your car to all electric Hybrid or Both  \\\n",
              "0                 15                              Yes     Hybrid car   \n",
              "1                  8                              Yes   Electric car   \n",
              "2                 15            Didn't think about it     Hybrid car   \n",
              "3                  8            Didn't think about it     Hybrid car   \n",
              "4                 15            Didn't think about it     Hybrid car   \n",
              "\n",
              "   Next car will be electric car?  \n",
              "0                               5  \n",
              "1                               5  \n",
              "2                               5  \n",
              "3                               5  \n",
              "4                               5  "
            ],
            "text/html": [
              "\n",
              "  <div id=\"df-b3810e25-f6a2-4467-b4cf-043adafd314b\">\n",
              "    <div class=\"colab-df-container\">\n",
              "      <div>\n",
              "<style scoped>\n",
              "    .dataframe tbody tr th:only-of-type {\n",
              "        vertical-align: middle;\n",
              "    }\n",
              "\n",
              "    .dataframe tbody tr th {\n",
              "        vertical-align: top;\n",
              "    }\n",
              "\n",
              "    .dataframe thead th {\n",
              "        text-align: right;\n",
              "    }\n",
              "</style>\n",
              "<table border=\"1\" class=\"dataframe\">\n",
              "  <thead>\n",
              "    <tr style=\"text-align: right;\">\n",
              "      <th></th>\n",
              "      <th>Age</th>\n",
              "      <th>City</th>\n",
              "      <th>Gender</th>\n",
              "      <th>Education Level</th>\n",
              "      <th>Occupation</th>\n",
              "      <th>Family Members</th>\n",
              "      <th>Annual Income</th>\n",
              "      <th>Charging Hours</th>\n",
              "      <th>Electric Cars are economical</th>\n",
              "      <th>Charging stations</th>\n",
              "      <th>Convert your car to all electric</th>\n",
              "      <th>Hybrid or Both</th>\n",
              "      <th>Next car will be electric car?</th>\n",
              "    </tr>\n",
              "  </thead>\n",
              "  <tbody>\n",
              "    <tr>\n",
              "      <th>0</th>\n",
              "      <td>29</td>\n",
              "      <td>Kolkata</td>\n",
              "      <td>Male</td>\n",
              "      <td>Postgraduate</td>\n",
              "      <td>Working Professional</td>\n",
              "      <td>5</td>\n",
              "      <td>150000</td>\n",
              "      <td>1</td>\n",
              "      <td>Yes</td>\n",
              "      <td>15</td>\n",
              "      <td>Yes</td>\n",
              "      <td>Hybrid car</td>\n",
              "      <td>5</td>\n",
              "    </tr>\n",
              "    <tr>\n",
              "      <th>1</th>\n",
              "      <td>29</td>\n",
              "      <td>Mumbai</td>\n",
              "      <td>Male</td>\n",
              "      <td>Graduate</td>\n",
              "      <td>Working Professional</td>\n",
              "      <td>4</td>\n",
              "      <td>1000000</td>\n",
              "      <td>1</td>\n",
              "      <td>Yes</td>\n",
              "      <td>8</td>\n",
              "      <td>Yes</td>\n",
              "      <td>Electric car</td>\n",
              "      <td>5</td>\n",
              "    </tr>\n",
              "    <tr>\n",
              "      <th>2</th>\n",
              "      <td>25</td>\n",
              "      <td>Mumbai</td>\n",
              "      <td>Male</td>\n",
              "      <td>Graduate</td>\n",
              "      <td>Working Professional</td>\n",
              "      <td>4</td>\n",
              "      <td>5000</td>\n",
              "      <td>5</td>\n",
              "      <td>Yes</td>\n",
              "      <td>15</td>\n",
              "      <td>Didn't think about it</td>\n",
              "      <td>Hybrid car</td>\n",
              "      <td>5</td>\n",
              "    </tr>\n",
              "    <tr>\n",
              "      <th>3</th>\n",
              "      <td>25</td>\n",
              "      <td>Bangalore</td>\n",
              "      <td>Male</td>\n",
              "      <td>Graduate</td>\n",
              "      <td>Working Professional</td>\n",
              "      <td>4</td>\n",
              "      <td>750000</td>\n",
              "      <td>1</td>\n",
              "      <td>Don't know</td>\n",
              "      <td>8</td>\n",
              "      <td>Didn't think about it</td>\n",
              "      <td>Hybrid car</td>\n",
              "      <td>5</td>\n",
              "    </tr>\n",
              "    <tr>\n",
              "      <th>4</th>\n",
              "      <td>21</td>\n",
              "      <td>Mumbai</td>\n",
              "      <td>Male</td>\n",
              "      <td>Postgraduate</td>\n",
              "      <td>Student</td>\n",
              "      <td>4</td>\n",
              "      <td>5000</td>\n",
              "      <td>12</td>\n",
              "      <td>Don't know</td>\n",
              "      <td>15</td>\n",
              "      <td>Didn't think about it</td>\n",
              "      <td>Hybrid car</td>\n",
              "      <td>5</td>\n",
              "    </tr>\n",
              "  </tbody>\n",
              "</table>\n",
              "</div>\n",
              "      <button class=\"colab-df-convert\" onclick=\"convertToInteractive('df-b3810e25-f6a2-4467-b4cf-043adafd314b')\"\n",
              "              title=\"Convert this dataframe to an interactive table.\"\n",
              "              style=\"display:none;\">\n",
              "        \n",
              "  <svg xmlns=\"http://www.w3.org/2000/svg\" height=\"24px\"viewBox=\"0 0 24 24\"\n",
              "       width=\"24px\">\n",
              "    <path d=\"M0 0h24v24H0V0z\" fill=\"none\"/>\n",
              "    <path d=\"M18.56 5.44l.94 2.06.94-2.06 2.06-.94-2.06-.94-.94-2.06-.94 2.06-2.06.94zm-11 1L8.5 8.5l.94-2.06 2.06-.94-2.06-.94L8.5 2.5l-.94 2.06-2.06.94zm10 10l.94 2.06.94-2.06 2.06-.94-2.06-.94-.94-2.06-.94 2.06-2.06.94z\"/><path d=\"M17.41 7.96l-1.37-1.37c-.4-.4-.92-.59-1.43-.59-.52 0-1.04.2-1.43.59L10.3 9.45l-7.72 7.72c-.78.78-.78 2.05 0 2.83L4 21.41c.39.39.9.59 1.41.59.51 0 1.02-.2 1.41-.59l7.78-7.78 2.81-2.81c.8-.78.8-2.07 0-2.86zM5.41 20L4 18.59l7.72-7.72 1.47 1.35L5.41 20z\"/>\n",
              "  </svg>\n",
              "      </button>\n",
              "      \n",
              "  <style>\n",
              "    .colab-df-container {\n",
              "      display:flex;\n",
              "      flex-wrap:wrap;\n",
              "      gap: 12px;\n",
              "    }\n",
              "\n",
              "    .colab-df-convert {\n",
              "      background-color: #E8F0FE;\n",
              "      border: none;\n",
              "      border-radius: 50%;\n",
              "      cursor: pointer;\n",
              "      display: none;\n",
              "      fill: #1967D2;\n",
              "      height: 32px;\n",
              "      padding: 0 0 0 0;\n",
              "      width: 32px;\n",
              "    }\n",
              "\n",
              "    .colab-df-convert:hover {\n",
              "      background-color: #E2EBFA;\n",
              "      box-shadow: 0px 1px 2px rgba(60, 64, 67, 0.3), 0px 1px 3px 1px rgba(60, 64, 67, 0.15);\n",
              "      fill: #174EA6;\n",
              "    }\n",
              "\n",
              "    [theme=dark] .colab-df-convert {\n",
              "      background-color: #3B4455;\n",
              "      fill: #D2E3FC;\n",
              "    }\n",
              "\n",
              "    [theme=dark] .colab-df-convert:hover {\n",
              "      background-color: #434B5C;\n",
              "      box-shadow: 0px 1px 3px 1px rgba(0, 0, 0, 0.15);\n",
              "      filter: drop-shadow(0px 1px 2px rgba(0, 0, 0, 0.3));\n",
              "      fill: #FFFFFF;\n",
              "    }\n",
              "  </style>\n",
              "\n",
              "      <script>\n",
              "        const buttonEl =\n",
              "          document.querySelector('#df-b3810e25-f6a2-4467-b4cf-043adafd314b button.colab-df-convert');\n",
              "        buttonEl.style.display =\n",
              "          google.colab.kernel.accessAllowed ? 'block' : 'none';\n",
              "\n",
              "        async function convertToInteractive(key) {\n",
              "          const element = document.querySelector('#df-b3810e25-f6a2-4467-b4cf-043adafd314b');\n",
              "          const dataTable =\n",
              "            await google.colab.kernel.invokeFunction('convertToInteractive',\n",
              "                                                     [key], {});\n",
              "          if (!dataTable) return;\n",
              "\n",
              "          const docLinkHtml = 'Like what you see? Visit the ' +\n",
              "            '<a target=\"_blank\" href=https://colab.research.google.com/notebooks/data_table.ipynb>data table notebook</a>'\n",
              "            + ' to learn more about interactive tables.';\n",
              "          element.innerHTML = '';\n",
              "          dataTable['output_type'] = 'display_data';\n",
              "          await google.colab.output.renderOutput(dataTable, element);\n",
              "          const docLink = document.createElement('div');\n",
              "          docLink.innerHTML = docLinkHtml;\n",
              "          element.appendChild(docLink);\n",
              "        }\n",
              "      </script>\n",
              "    </div>\n",
              "  </div>\n",
              "  "
            ]
          },
          "metadata": {},
          "execution_count": 25
        }
      ]
    },
    {
      "cell_type": "code",
      "source": [
        "data.shape"
      ],
      "metadata": {
        "colab": {
          "base_uri": "https://localhost:8080/"
        },
        "id": "qmik5MdoExuJ",
        "outputId": "ca9fe928-57d4-4e79-aba7-54c73c56fa5d"
      },
      "execution_count": 26,
      "outputs": [
        {
          "output_type": "execute_result",
          "data": {
            "text/plain": [
              "(299, 13)"
            ]
          },
          "metadata": {},
          "execution_count": 26
        }
      ]
    },
    {
      "cell_type": "code",
      "source": [
        "data.info()"
      ],
      "metadata": {
        "colab": {
          "base_uri": "https://localhost:8080/"
        },
        "id": "dTmv6Pw9FvU0",
        "outputId": "78cfa243-f316-4a60-fd06-ea4f1d7448f4"
      },
      "execution_count": 27,
      "outputs": [
        {
          "output_type": "stream",
          "name": "stdout",
          "text": [
            "<class 'pandas.core.frame.DataFrame'>\n",
            "RangeIndex: 299 entries, 0 to 298\n",
            "Data columns (total 13 columns):\n",
            " #   Column                            Non-Null Count  Dtype \n",
            "---  ------                            --------------  ----- \n",
            " 0   Age                               299 non-null    int64 \n",
            " 1   City                              299 non-null    object\n",
            " 2   Gender                            299 non-null    object\n",
            " 3   Education Level                   299 non-null    object\n",
            " 4   Occupation                        299 non-null    object\n",
            " 5   Family Members                    299 non-null    int64 \n",
            " 6   Annual Income                     299 non-null    int64 \n",
            " 7   Charging Hours                    299 non-null    int64 \n",
            " 8   Electric Cars are economical      299 non-null    object\n",
            " 9   Charging stations                 299 non-null    int64 \n",
            " 10  Convert your car to all electric  299 non-null    object\n",
            " 11  Hybrid or Both                    299 non-null    object\n",
            " 12  Next car will be electric car?    299 non-null    int64 \n",
            "dtypes: int64(6), object(7)\n",
            "memory usage: 30.5+ KB\n"
          ]
        }
      ]
    },
    {
      "cell_type": "code",
      "source": [
        "data.describe()"
      ],
      "metadata": {
        "colab": {
          "base_uri": "https://localhost:8080/",
          "height": 300
        },
        "id": "g6blXReEFx_6",
        "outputId": "e2d48a15-8ce2-45f9-9f22-ada9ab00bf67"
      },
      "execution_count": 28,
      "outputs": [
        {
          "output_type": "execute_result",
          "data": {
            "text/plain": [
              "             Age   Family Members   Annual Income  Charging Hours  \\\n",
              "count  299.000000      299.000000      299.000000      299.000000   \n",
              "mean    33.066890        3.816054   603812.709030        3.685619   \n",
              "std     10.390474        0.949890   387815.052751        2.697531   \n",
              "min     17.000000        2.000000     5000.000000        1.000000   \n",
              "25%     23.000000        3.000000   150000.000000        2.000000   \n",
              "50%     31.000000        4.000000   750000.000000        2.000000   \n",
              "75%     42.000000        4.000000  1000000.000000        5.000000   \n",
              "max     57.000000        7.000000  1000000.000000       12.000000   \n",
              "\n",
              "       Charging stations  Next car will be electric car?  \n",
              "count         299.000000                      299.000000  \n",
              "mean           13.026756                        4.986622  \n",
              "std             6.631678                        2.965091  \n",
              "min             8.000000                        1.000000  \n",
              "25%             8.000000                        3.000000  \n",
              "50%             8.000000                        5.000000  \n",
              "75%            15.000000                        5.000000  \n",
              "max            30.000000                       10.000000  "
            ],
            "text/html": [
              "\n",
              "  <div id=\"df-9b704d8b-dafd-419c-80f3-e8aa2a7ad820\">\n",
              "    <div class=\"colab-df-container\">\n",
              "      <div>\n",
              "<style scoped>\n",
              "    .dataframe tbody tr th:only-of-type {\n",
              "        vertical-align: middle;\n",
              "    }\n",
              "\n",
              "    .dataframe tbody tr th {\n",
              "        vertical-align: top;\n",
              "    }\n",
              "\n",
              "    .dataframe thead th {\n",
              "        text-align: right;\n",
              "    }\n",
              "</style>\n",
              "<table border=\"1\" class=\"dataframe\">\n",
              "  <thead>\n",
              "    <tr style=\"text-align: right;\">\n",
              "      <th></th>\n",
              "      <th>Age</th>\n",
              "      <th>Family Members</th>\n",
              "      <th>Annual Income</th>\n",
              "      <th>Charging Hours</th>\n",
              "      <th>Charging stations</th>\n",
              "      <th>Next car will be electric car?</th>\n",
              "    </tr>\n",
              "  </thead>\n",
              "  <tbody>\n",
              "    <tr>\n",
              "      <th>count</th>\n",
              "      <td>299.000000</td>\n",
              "      <td>299.000000</td>\n",
              "      <td>299.000000</td>\n",
              "      <td>299.000000</td>\n",
              "      <td>299.000000</td>\n",
              "      <td>299.000000</td>\n",
              "    </tr>\n",
              "    <tr>\n",
              "      <th>mean</th>\n",
              "      <td>33.066890</td>\n",
              "      <td>3.816054</td>\n",
              "      <td>603812.709030</td>\n",
              "      <td>3.685619</td>\n",
              "      <td>13.026756</td>\n",
              "      <td>4.986622</td>\n",
              "    </tr>\n",
              "    <tr>\n",
              "      <th>std</th>\n",
              "      <td>10.390474</td>\n",
              "      <td>0.949890</td>\n",
              "      <td>387815.052751</td>\n",
              "      <td>2.697531</td>\n",
              "      <td>6.631678</td>\n",
              "      <td>2.965091</td>\n",
              "    </tr>\n",
              "    <tr>\n",
              "      <th>min</th>\n",
              "      <td>17.000000</td>\n",
              "      <td>2.000000</td>\n",
              "      <td>5000.000000</td>\n",
              "      <td>1.000000</td>\n",
              "      <td>8.000000</td>\n",
              "      <td>1.000000</td>\n",
              "    </tr>\n",
              "    <tr>\n",
              "      <th>25%</th>\n",
              "      <td>23.000000</td>\n",
              "      <td>3.000000</td>\n",
              "      <td>150000.000000</td>\n",
              "      <td>2.000000</td>\n",
              "      <td>8.000000</td>\n",
              "      <td>3.000000</td>\n",
              "    </tr>\n",
              "    <tr>\n",
              "      <th>50%</th>\n",
              "      <td>31.000000</td>\n",
              "      <td>4.000000</td>\n",
              "      <td>750000.000000</td>\n",
              "      <td>2.000000</td>\n",
              "      <td>8.000000</td>\n",
              "      <td>5.000000</td>\n",
              "    </tr>\n",
              "    <tr>\n",
              "      <th>75%</th>\n",
              "      <td>42.000000</td>\n",
              "      <td>4.000000</td>\n",
              "      <td>1000000.000000</td>\n",
              "      <td>5.000000</td>\n",
              "      <td>15.000000</td>\n",
              "      <td>5.000000</td>\n",
              "    </tr>\n",
              "    <tr>\n",
              "      <th>max</th>\n",
              "      <td>57.000000</td>\n",
              "      <td>7.000000</td>\n",
              "      <td>1000000.000000</td>\n",
              "      <td>12.000000</td>\n",
              "      <td>30.000000</td>\n",
              "      <td>10.000000</td>\n",
              "    </tr>\n",
              "  </tbody>\n",
              "</table>\n",
              "</div>\n",
              "      <button class=\"colab-df-convert\" onclick=\"convertToInteractive('df-9b704d8b-dafd-419c-80f3-e8aa2a7ad820')\"\n",
              "              title=\"Convert this dataframe to an interactive table.\"\n",
              "              style=\"display:none;\">\n",
              "        \n",
              "  <svg xmlns=\"http://www.w3.org/2000/svg\" height=\"24px\"viewBox=\"0 0 24 24\"\n",
              "       width=\"24px\">\n",
              "    <path d=\"M0 0h24v24H0V0z\" fill=\"none\"/>\n",
              "    <path d=\"M18.56 5.44l.94 2.06.94-2.06 2.06-.94-2.06-.94-.94-2.06-.94 2.06-2.06.94zm-11 1L8.5 8.5l.94-2.06 2.06-.94-2.06-.94L8.5 2.5l-.94 2.06-2.06.94zm10 10l.94 2.06.94-2.06 2.06-.94-2.06-.94-.94-2.06-.94 2.06-2.06.94z\"/><path d=\"M17.41 7.96l-1.37-1.37c-.4-.4-.92-.59-1.43-.59-.52 0-1.04.2-1.43.59L10.3 9.45l-7.72 7.72c-.78.78-.78 2.05 0 2.83L4 21.41c.39.39.9.59 1.41.59.51 0 1.02-.2 1.41-.59l7.78-7.78 2.81-2.81c.8-.78.8-2.07 0-2.86zM5.41 20L4 18.59l7.72-7.72 1.47 1.35L5.41 20z\"/>\n",
              "  </svg>\n",
              "      </button>\n",
              "      \n",
              "  <style>\n",
              "    .colab-df-container {\n",
              "      display:flex;\n",
              "      flex-wrap:wrap;\n",
              "      gap: 12px;\n",
              "    }\n",
              "\n",
              "    .colab-df-convert {\n",
              "      background-color: #E8F0FE;\n",
              "      border: none;\n",
              "      border-radius: 50%;\n",
              "      cursor: pointer;\n",
              "      display: none;\n",
              "      fill: #1967D2;\n",
              "      height: 32px;\n",
              "      padding: 0 0 0 0;\n",
              "      width: 32px;\n",
              "    }\n",
              "\n",
              "    .colab-df-convert:hover {\n",
              "      background-color: #E2EBFA;\n",
              "      box-shadow: 0px 1px 2px rgba(60, 64, 67, 0.3), 0px 1px 3px 1px rgba(60, 64, 67, 0.15);\n",
              "      fill: #174EA6;\n",
              "    }\n",
              "\n",
              "    [theme=dark] .colab-df-convert {\n",
              "      background-color: #3B4455;\n",
              "      fill: #D2E3FC;\n",
              "    }\n",
              "\n",
              "    [theme=dark] .colab-df-convert:hover {\n",
              "      background-color: #434B5C;\n",
              "      box-shadow: 0px 1px 3px 1px rgba(0, 0, 0, 0.15);\n",
              "      filter: drop-shadow(0px 1px 2px rgba(0, 0, 0, 0.3));\n",
              "      fill: #FFFFFF;\n",
              "    }\n",
              "  </style>\n",
              "\n",
              "      <script>\n",
              "        const buttonEl =\n",
              "          document.querySelector('#df-9b704d8b-dafd-419c-80f3-e8aa2a7ad820 button.colab-df-convert');\n",
              "        buttonEl.style.display =\n",
              "          google.colab.kernel.accessAllowed ? 'block' : 'none';\n",
              "\n",
              "        async function convertToInteractive(key) {\n",
              "          const element = document.querySelector('#df-9b704d8b-dafd-419c-80f3-e8aa2a7ad820');\n",
              "          const dataTable =\n",
              "            await google.colab.kernel.invokeFunction('convertToInteractive',\n",
              "                                                     [key], {});\n",
              "          if (!dataTable) return;\n",
              "\n",
              "          const docLinkHtml = 'Like what you see? Visit the ' +\n",
              "            '<a target=\"_blank\" href=https://colab.research.google.com/notebooks/data_table.ipynb>data table notebook</a>'\n",
              "            + ' to learn more about interactive tables.';\n",
              "          element.innerHTML = '';\n",
              "          dataTable['output_type'] = 'display_data';\n",
              "          await google.colab.output.renderOutput(dataTable, element);\n",
              "          const docLink = document.createElement('div');\n",
              "          docLink.innerHTML = docLinkHtml;\n",
              "          element.appendChild(docLink);\n",
              "        }\n",
              "      </script>\n",
              "    </div>\n",
              "  </div>\n",
              "  "
            ]
          },
          "metadata": {},
          "execution_count": 28
        }
      ]
    },
    {
      "cell_type": "code",
      "source": [
        "data.isnull().sum()"
      ],
      "metadata": {
        "colab": {
          "base_uri": "https://localhost:8080/"
        },
        "id": "xZ_VZ2NBF1tq",
        "outputId": "b9e2aa53-2e2a-4539-d35c-c1b8c646660c"
      },
      "execution_count": 29,
      "outputs": [
        {
          "output_type": "execute_result",
          "data": {
            "text/plain": [
              "Age                                 0\n",
              "City                                0\n",
              "Gender                              0\n",
              "Education Level                     0\n",
              "Occupation                          0\n",
              "Family Members                      0\n",
              "Annual Income                       0\n",
              "Charging Hours                      0\n",
              "Electric Cars are economical        0\n",
              "Charging stations                   0\n",
              "Convert your car to all electric    0\n",
              "Hybrid or Both                      0\n",
              "Next car will be electric car?      0\n",
              "dtype: int64"
            ]
          },
          "metadata": {},
          "execution_count": 29
        }
      ]
    },
    {
      "cell_type": "code",
      "source": [
        "data.hist(bins=20,figsize=(18, 16))"
      ],
      "metadata": {
        "colab": {
          "base_uri": "https://localhost:8080/",
          "height": 1000
        },
        "id": "zjI-zruxF4E6",
        "outputId": "c8e5a666-3d7d-4fdb-d320-eb9b427bdcc5"
      },
      "execution_count": 30,
      "outputs": [
        {
          "output_type": "execute_result",
          "data": {
            "text/plain": [
              "array([[<matplotlib.axes._subplots.AxesSubplot object at 0x7fdd6e0f3510>,\n",
              "        <matplotlib.axes._subplots.AxesSubplot object at 0x7fdd6b281510>],\n",
              "       [<matplotlib.axes._subplots.AxesSubplot object at 0x7fdd6b238950>,\n",
              "        <matplotlib.axes._subplots.AxesSubplot object at 0x7fdd6b1f0e50>],\n",
              "       [<matplotlib.axes._subplots.AxesSubplot object at 0x7fdd6b1b2390>,\n",
              "        <matplotlib.axes._subplots.AxesSubplot object at 0x7fdd6b167890>]],\n",
              "      dtype=object)"
            ]
          },
          "metadata": {},
          "execution_count": 30
        },
        {
          "output_type": "display_data",
          "data": {
            "text/plain": [
              "<Figure size 1296x1152 with 6 Axes>"
            ],
            "image/png": "[encoded data removed]"
          },
          "metadata": {
            "needs_background": "light"
          }
        }
      ]
    },
    {
      "cell_type": "code",
      "source": [
        "data['Occupation'].value_counts().plot.bar()"
      ],
      "metadata": {
        "colab": {
          "base_uri": "https://localhost:8080/",
          "height": 376
        },
        "id": "4dA2Jra1F4kG",
        "outputId": "4e0344dd-0de9-4998-d048-55013c1f3ed6"
      },
      "execution_count": 31,
      "outputs": [
        {
          "output_type": "execute_result",
          "data": {
            "text/plain": [
              "<matplotlib.axes._subplots.AxesSubplot at 0x7fdd6b0f4590>"
            ]
          },
          "metadata": {},
          "execution_count": 31
        },
        {
          "output_type": "display_data",
          "data": {
            "text/plain": [
              "<Figure size 432x288 with 1 Axes>"
            ],
            "image/png": "[encoded data removed]"
          },
          "metadata": {
            "needs_background": "light"
          }
        }
      ]
    },
    {
      "cell_type": "code",
      "source": [
        "data['Education Level'].value_counts().plot.bar()"
      ],
      "metadata": {
        "colab": {
          "base_uri": "https://localhost:8080/",
          "height": 403
        },
        "id": "TgVjkNgkF-vy",
        "outputId": "90182b48-6865-4b72-f70e-891c9e3a8789"
      },
      "execution_count": 32,
      "outputs": [
        {
          "output_type": "execute_result",
          "data": {
            "text/plain": [
              "<matplotlib.axes._subplots.AxesSubplot at 0x7fdd6b091450>"
            ]
          },
          "metadata": {},
          "execution_count": 32
        },
        {
          "output_type": "display_data",
          "data": {
            "text/plain": [
              "<Figure size 432x288 with 1 Axes>"
            ],
            "image/png": "[encoded data removed]"
          },
          "metadata": {
            "needs_background": "light"
          }
        }
      ]
    },
    {
      "cell_type": "code",
      "source": [
        "data['Hybrid or Both'].value_counts().plot.bar()"
      ],
      "metadata": {
        "colab": {
          "base_uri": "https://localhost:8080/",
          "height": 328
        },
        "id": "JTDJtMrTGA3K",
        "outputId": "d6eb39a2-b019-4323-8b62-076f08744ab5"
      },
      "execution_count": 33,
      "outputs": [
        {
          "output_type": "execute_result",
          "data": {
            "text/plain": [
              "<matplotlib.axes._subplots.AxesSubplot at 0x7fdd6b2a0550>"
            ]
          },
          "metadata": {},
          "execution_count": 33
        },
        {
          "output_type": "display_data",
          "data": {
            "text/plain": [
              "<Figure size 432x288 with 1 Axes>"
            ],
            "image/png": "[encoded data removed]"
          },
          "metadata": {
            "needs_background": "light"
          }
        }
      ]
    },
    {
      "cell_type": "code",
      "source": [
        "sns.distplot(data['Annual Income'])"
      ],
      "metadata": {
        "colab": {
          "base_uri": "https://localhost:8080/",
          "height": 362
        },
        "id": "4XEZd99FGDMc",
        "outputId": "43e2714c-5fcf-4d15-e707-c1d8265057de"
      },
      "execution_count": 34,
      "outputs": [
        {
          "output_type": "stream",
          "name": "stderr",
          "text": [
            "/usr/local/lib/python3.7/dist-packages/seaborn/distributions.py:2619: FutureWarning: `distplot` is a deprecated function and will be removed in a future version. Please adapt your code to use either `displot` (a figure-level function with similar flexibility) or `histplot` (an axes-level function for histograms).\n",
            "  warnings.warn(msg, FutureWarning)\n"
          ]
        },
        {
          "output_type": "execute_result",
          "data": {
            "text/plain": [
              "<matplotlib.axes._subplots.AxesSubplot at 0x7fdd6b01fd10>"
            ]
          },
          "metadata": {},
          "execution_count": 34
        },
        {
          "output_type": "display_data",
          "data": {
            "text/plain": [
              "<Figure size 432x288 with 1 Axes>"
            ],
            "image/png": "[encoded data removed]"
          },
          "metadata": {
            "needs_background": "light"
          }
        }
      ]
    },
    {
      "cell_type": "code",
      "source": [
        "data[\"Age \"].describe()"
      ],
      "metadata": {
        "colab": {
          "base_uri": "https://localhost:8080/"
        },
        "id": "UYCl_C3zGFdT",
        "outputId": "0afcdba9-73b3-42f5-d528-777e871658ed"
      },
      "execution_count": 35,
      "outputs": [
        {
          "output_type": "execute_result",
          "data": {
            "text/plain": [
              "count    299.000000\n",
              "mean      33.066890\n",
              "std       10.390474\n",
              "min       17.000000\n",
              "25%       23.000000\n",
              "50%       31.000000\n",
              "75%       42.000000\n",
              "max       57.000000\n",
              "Name: Age , dtype: float64"
            ]
          },
          "metadata": {},
          "execution_count": 35
        }
      ]
    },
    {
      "cell_type": "code",
      "source": [
        "data[\"Annual Income\"].describe()"
      ],
      "metadata": {
        "colab": {
          "base_uri": "https://localhost:8080/"
        },
        "id": "3hHVKFMUGIJy",
        "outputId": "ff0d633f-4732-40e7-edad-72997b254ded"
      },
      "execution_count": 36,
      "outputs": [
        {
          "output_type": "execute_result",
          "data": {
            "text/plain": [
              "count        299.000000\n",
              "mean      603812.709030\n",
              "std       387815.052751\n",
              "min         5000.000000\n",
              "25%       150000.000000\n",
              "50%       750000.000000\n",
              "75%      1000000.000000\n",
              "max      1000000.000000\n",
              "Name: Annual Income, dtype: float64"
            ]
          },
          "metadata": {},
          "execution_count": 36
        }
      ]
    },
    {
      "cell_type": "code",
      "source": [
        "plt.bar(data['Age '], data['Annual Income'])\n",
        "plt.xlabel('Age')\n",
        "plt.ylabel('Annual Income')"
      ],
      "metadata": {
        "colab": {
          "base_uri": "https://localhost:8080/",
          "height": 307
        },
        "id": "aBJDrAQyGKt7",
        "outputId": "2e003572-3909-48e5-cfaa-87e29e0a707b"
      },
      "execution_count": 37,
      "outputs": [
        {
          "output_type": "execute_result",
          "data": {
            "text/plain": [
              "Text(0, 0.5, 'Annual Income')"
            ]
          },
          "metadata": {},
          "execution_count": 37
        },
        {
          "output_type": "display_data",
          "data": {
            "text/plain": [
              "<Figure size 432x288 with 1 Axes>"
            ],
            "image/png": "[encoded data removed]"
          },
          "metadata": {
            "needs_background": "light"
          }
        }
      ]
    },
    {
      "cell_type": "code",
      "source": [
        "sns.factorplot('Age ', hue='Annual Income', kind='count', data=data);"
      ],
      "metadata": {
        "colab": {
          "base_uri": "https://localhost:8080/",
          "height": 458
        },
        "id": "F5KfBK82Kz89",
        "outputId": "f7fcdb53-9b12-44d4-a955-10cdde600df9"
      },
      "execution_count": 22,
      "outputs": [
        {
          "output_type": "stream",
          "name": "stderr",
          "text": [
            "/usr/local/lib/python3.7/dist-packages/seaborn/categorical.py:3717: UserWarning: The `factorplot` function has been renamed to `catplot`. The original name will be removed in a future release. Please update your code. Note that the default `kind` in `factorplot` (`'point'`) has changed `'strip'` in `catplot`.\n",
            "  warnings.warn(msg)\n",
            "/usr/local/lib/python3.7/dist-packages/seaborn/_decorators.py:43: FutureWarning: Pass the following variable as a keyword arg: x. From version 0.12, the only valid positional argument will be `data`, and passing other arguments without an explicit keyword will result in an error or misinterpretation.\n",
            "  FutureWarning\n"
          ]
        },
        {
          "output_type": "display_data",
          "data": {
            "text/plain": [
              "<Figure size 442.625x360 with 1 Axes>"
            ],
            "image/png": "[encoded data removed]"
          },
          "metadata": {
            "needs_background": "light"
          }
        }
      ]
    },
    {
      "cell_type": "code",
      "source": [
        "sns.factorplot('Age ', hue='Education Level', kind='count', data=data);"
      ],
      "metadata": {
        "colab": {
          "base_uri": "https://localhost:8080/",
          "height": 458
        },
        "id": "qiXJ-gK3K2f6",
        "outputId": "1f73120e-4da1-42c4-cff5-0913fbe08392"
      },
      "execution_count": 23,
      "outputs": [
        {
          "output_type": "stream",
          "name": "stderr",
          "text": [
            "/usr/local/lib/python3.7/dist-packages/seaborn/categorical.py:3717: UserWarning: The `factorplot` function has been renamed to `catplot`. The original name will be removed in a future release. Please update your code. Note that the default `kind` in `factorplot` (`'point'`) has changed `'strip'` in `catplot`.\n",
            "  warnings.warn(msg)\n",
            "/usr/local/lib/python3.7/dist-packages/seaborn/_decorators.py:43: FutureWarning: Pass the following variable as a keyword arg: x. From version 0.12, the only valid positional argument will be `data`, and passing other arguments without an explicit keyword will result in an error or misinterpretation.\n",
            "  FutureWarning\n"
          ]
        },
        {
          "output_type": "display_data",
          "data": {
            "text/plain": [
              "<Figure size 526.125x360 with 1 Axes>"
            ],
            "image/png": "[encoded data removed]"
          },
          "metadata": {
            "needs_background": "light"
          }
        }
      ]
    },
    {
      "cell_type": "code",
      "source": [
        "sns.factorplot('Age ', hue='Occupation', kind='count', data=data);"
      ],
      "metadata": {
        "colab": {
          "base_uri": "https://localhost:8080/",
          "height": 458
        },
        "id": "ZabB73m6Nj41",
        "outputId": "800ec08b-fd33-45c4-9576-a9a78260e331"
      },
      "execution_count": 38,
      "outputs": [
        {
          "output_type": "stream",
          "name": "stderr",
          "text": [
            "/usr/local/lib/python3.7/dist-packages/seaborn/categorical.py:3717: UserWarning: The `factorplot` function has been renamed to `catplot`. The original name will be removed in a future release. Please update your code. Note that the default `kind` in `factorplot` (`'point'`) has changed `'strip'` in `catplot`.\n",
            "  warnings.warn(msg)\n",
            "/usr/local/lib/python3.7/dist-packages/seaborn/_decorators.py:43: FutureWarning: Pass the following variable as a keyword arg: x. From version 0.12, the only valid positional argument will be `data`, and passing other arguments without an explicit keyword will result in an error or misinterpretation.\n",
            "  FutureWarning\n"
          ]
        },
        {
          "output_type": "display_data",
          "data": {
            "text/plain": [
              "<Figure size 500.125x360 with 1 Axes>"
            ],
            "image/png": "[encoded data removed]"
          },
          "metadata": {
            "needs_background": "light"
          }
        }
      ]
    },
    {
      "cell_type": "code",
      "source": [
        "data['Hybrid or Both'].unique()"
      ],
      "metadata": {
        "colab": {
          "base_uri": "https://localhost:8080/"
        },
        "id": "bGpxXc7IOEh9",
        "outputId": "c111f598-b578-467f-e3b3-f7c9ebfd2abc"
      },
      "execution_count": 39,
      "outputs": [
        {
          "output_type": "execute_result",
          "data": {
            "text/plain": [
              "array(['Hybrid car', 'Electric car'], dtype=object)"
            ]
          },
          "metadata": {},
          "execution_count": 39
        }
      ]
    },
    {
      "cell_type": "code",
      "source": [
        "data.duplicated().sum()"
      ],
      "metadata": {
        "colab": {
          "base_uri": "https://localhost:8080/"
        },
        "id": "v1g7wzkhOV57",
        "outputId": "7250b862-0c76-4cb4-e907-a9e676170f6d"
      },
      "execution_count": 40,
      "outputs": [
        {
          "output_type": "execute_result",
          "data": {
            "text/plain": [
              "0"
            ]
          },
          "metadata": {},
          "execution_count": 40
        }
      ]
    },
    {
      "cell_type": "code",
      "source": [
        "from sklearn import preprocessing"
      ],
      "metadata": {
        "id": "Jsu3tHMMOaLd"
      },
      "execution_count": 41,
      "outputs": []
    },
    {
      "cell_type": "code",
      "source": [
        "data['Occupation']=preprocessing.LabelEncoder().fit_transform(data['Occupation'].values.reshape(-1,1))"
      ],
      "metadata": {
        "colab": {
          "base_uri": "https://localhost:8080/"
        },
        "id": "dpX9GY5mOckF",
        "outputId": "ffe46a60-c35a-4550-ae0c-5c56e9c75028"
      },
      "execution_count": 42,
      "outputs": [
        {
          "output_type": "stream",
          "name": "stderr",
          "text": [
            "/usr/local/lib/python3.7/dist-packages/sklearn/preprocessing/_label.py:115: DataConversionWarning: A column-vector y was passed when a 1d array was expected. Please change the shape of y to (n_samples, ), for example using ravel().\n",
            "  y = column_or_1d(y, warn=True)\n"
          ]
        }
      ]
    },
    {
      "cell_type": "code",
      "source": [
        "data['Education Level']=preprocessing.LabelEncoder().fit_transform(data['Education Level'].values.reshape(-1,1))"
      ],
      "metadata": {
        "colab": {
          "base_uri": "https://localhost:8080/"
        },
        "id": "VsLlwM0kOdVi",
        "outputId": "266425e2-1df2-478f-d205-bcd40860b138"
      },
      "execution_count": 43,
      "outputs": [
        {
          "output_type": "stream",
          "name": "stderr",
          "text": [
            "/usr/local/lib/python3.7/dist-packages/sklearn/preprocessing/_label.py:115: DataConversionWarning: A column-vector y was passed when a 1d array was expected. Please change the shape of y to (n_samples, ), for example using ravel().\n",
            "  y = column_or_1d(y, warn=True)\n"
          ]
        }
      ]
    },
    {
      "cell_type": "code",
      "source": [
        "data['Education Level'].unique()"
      ],
      "metadata": {
        "colab": {
          "base_uri": "https://localhost:8080/"
        },
        "id": "jL7wI8v7OwlC",
        "outputId": "44c4a4e8-e868-425b-ae43-e94a6769a8e3"
      },
      "execution_count": 44,
      "outputs": [
        {
          "output_type": "execute_result",
          "data": {
            "text/plain": [
              "array([3, 1, 2, 0])"
            ]
          },
          "metadata": {},
          "execution_count": 44
        }
      ]
    },
    {
      "cell_type": "code",
      "source": [
        "data['Occupation'].unique()"
      ],
      "metadata": {
        "colab": {
          "base_uri": "https://localhost:8080/"
        },
        "id": "xAnsYY_eO20e",
        "outputId": "a5de9151-54cc-46f1-82ae-d7209c48b291"
      },
      "execution_count": 45,
      "outputs": [
        {
          "output_type": "execute_result",
          "data": {
            "text/plain": [
              "array([2, 1, 0])"
            ]
          },
          "metadata": {},
          "execution_count": 45
        }
      ]
    },
    {
      "cell_type": "code",
      "source": [
        "sns.lmplot('Age ','Annual Income', data=data, fit_reg=False, hue=\"Occupation\", scatter_kws={\"marker\": \".\", \"s\": 20})\n",
        "plt.title('Scatterplot of people w.r.t Annual Income and Age')"
      ],
      "metadata": {
        "colab": {
          "base_uri": "https://localhost:8080/",
          "height": 446
        },
        "id": "NeVRNN7OO7G9",
        "outputId": "68945ab7-49f1-4733-f3d6-72e201f365aa"
      },
      "execution_count": 46,
      "outputs": [
        {
          "output_type": "stream",
          "name": "stderr",
          "text": [
            "/usr/local/lib/python3.7/dist-packages/seaborn/_decorators.py:43: FutureWarning: Pass the following variables as keyword args: x, y. From version 0.12, the only valid positional argument will be `data`, and passing other arguments without an explicit keyword will result in an error or misinterpretation.\n",
            "  FutureWarning\n"
          ]
        },
        {
          "output_type": "execute_result",
          "data": {
            "text/plain": [
              "Text(0.5, 1.0, 'Scatterplot of people w.r.t Annual Income and Age')"
            ]
          },
          "metadata": {},
          "execution_count": 46
        },
        {
          "output_type": "display_data",
          "data": {
            "text/plain": [
              "<Figure size 424.625x360 with 1 Axes>"
            ],
            "image/png": "[encoded data removed]"
          },
          "metadata": {
            "needs_background": "light"
          }
        }
      ]
    },
    {
      "cell_type": "code",
      "source": [
        "sns.lmplot('Age ','Annual Income', data=data, fit_reg=False, hue=\"Education Level\", scatter_kws={\"marker\": \".\", \"s\": 20})\n",
        "plt.title('Scatterplot of people w.r.t Annual Income and Age')"
      ],
      "metadata": {
        "colab": {
          "base_uri": "https://localhost:8080/",
          "height": 446
        },
        "id": "nsaBYZYuPL_y",
        "outputId": "d6628762-83c3-4f75-fbcb-850237636970"
      },
      "execution_count": 47,
      "outputs": [
        {
          "output_type": "stream",
          "name": "stderr",
          "text": [
            "/usr/local/lib/python3.7/dist-packages/seaborn/_decorators.py:43: FutureWarning: Pass the following variables as keyword args: x, y. From version 0.12, the only valid positional argument will be `data`, and passing other arguments without an explicit keyword will result in an error or misinterpretation.\n",
            "  FutureWarning\n"
          ]
        },
        {
          "output_type": "execute_result",
          "data": {
            "text/plain": [
              "Text(0.5, 1.0, 'Scatterplot of people w.r.t Annual Income and Age')"
            ]
          },
          "metadata": {},
          "execution_count": 47
        },
        {
          "output_type": "display_data",
          "data": {
            "text/plain": [
              "<Figure size 447.25x360 with 1 Axes>"
            ],
            "image/png": "[encoded data removed]"
          },
          "metadata": {
            "needs_background": "light"
          }
        }
      ]
    },
    {
      "cell_type": "code",
      "source": [
        "data['Education Level'].value_counts().plot.bar()"
      ],
      "metadata": {
        "colab": {
          "base_uri": "https://localhost:8080/",
          "height": 279
        },
        "id": "Q_uzpTq_PeaI",
        "outputId": "08ca9fea-e35b-4b84-e696-92d2e0966675"
      },
      "execution_count": 48,
      "outputs": [
        {
          "output_type": "execute_result",
          "data": {
            "text/plain": [
              "<matplotlib.axes._subplots.AxesSubplot at 0x7fdd6ac58590>"
            ]
          },
          "metadata": {},
          "execution_count": 48
        },
        {
          "output_type": "display_data",
          "data": {
            "text/plain": [
              "<Figure size 432x288 with 1 Axes>"
            ],
            "image/png": "[encoded data removed]"
          },
          "metadata": {
            "needs_background": "light"
          }
        }
      ]
    },
    {
      "cell_type": "code",
      "source": [
        "data['Occupation'].value_counts().plot.bar()"
      ],
      "metadata": {
        "colab": {
          "base_uri": "https://localhost:8080/",
          "height": 279
        },
        "id": "10Ba6WUzPh9j",
        "outputId": "a0d78562-474e-4325-c31e-b15692a1ac76"
      },
      "execution_count": 49,
      "outputs": [
        {
          "output_type": "execute_result",
          "data": {
            "text/plain": [
              "<matplotlib.axes._subplots.AxesSubplot at 0x7fdd6ad69950>"
            ]
          },
          "metadata": {},
          "execution_count": 49
        },
        {
          "output_type": "display_data",
          "data": {
            "text/plain": [
              "<Figure size 432x288 with 1 Axes>"
            ],
            "image/png": "[encoded data removed]"
          },
          "metadata": {
            "needs_background": "light"
          }
        }
      ]
    },
    {
      "cell_type": "code",
      "source": [
        "bins=[0,1000000,2000000,3000000,4000000]\n",
        "group=['Low','Average','High','Very high']\n",
        "data['Income_bin']=pd.cut(data['Annual Income'],bins,labels=group)\n",
        "\n",
        "data['Income_bin']"
      ],
      "metadata": {
        "colab": {
          "base_uri": "https://localhost:8080/"
        },
        "id": "onC0TefVPmKv",
        "outputId": "c1994b57-fdb0-46f4-c340-9cd0271df08c"
      },
      "execution_count": 50,
      "outputs": [
        {
          "output_type": "execute_result",
          "data": {
            "text/plain": [
              "0      Low\n",
              "1      Low\n",
              "2      Low\n",
              "3      Low\n",
              "4      Low\n",
              "      ... \n",
              "294    Low\n",
              "295    Low\n",
              "296    Low\n",
              "297    Low\n",
              "298    Low\n",
              "Name: Income_bin, Length: 299, dtype: category\n",
              "Categories (4, object): ['Low' < 'Average' < 'High' < 'Very high']"
            ]
          },
          "metadata": {},
          "execution_count": 50
        }
      ]
    },
    {
      "cell_type": "code",
      "source": [
        "data.head()"
      ],
      "metadata": {
        "colab": {
          "base_uri": "https://localhost:8080/",
          "height": 372
        },
        "id": "qH55KQ7RP3CE",
        "outputId": "f7ff00da-2925-445b-d471-fcf4a204464b"
      },
      "execution_count": 51,
      "outputs": [
        {
          "output_type": "execute_result",
          "data": {
            "text/plain": [
              "   Age        City Gender  Education Level  Occupation  Family Members  \\\n",
              "0    29    Kolkata   Male                3           2               5   \n",
              "1    29     Mumbai   Male                1           2               4   \n",
              "2    25     Mumbai   Male                1           2               4   \n",
              "3    25  Bangalore   Male                1           2               4   \n",
              "4    21     Mumbai   Male                3           1               4   \n",
              "\n",
              "   Annual Income  Charging Hours Electric Cars are economical  \\\n",
              "0         150000               1                          Yes   \n",
              "1        1000000               1                          Yes   \n",
              "2           5000               5                          Yes   \n",
              "3         750000               1                   Don't know   \n",
              "4           5000              12                   Don't know   \n",
              "\n",
              "   Charging stations Convert your car to all electric Hybrid or Both  \\\n",
              "0                 15                              Yes     Hybrid car   \n",
              "1                  8                              Yes   Electric car   \n",
              "2                 15            Didn't think about it     Hybrid car   \n",
              "3                  8            Didn't think about it     Hybrid car   \n",
              "4                 15            Didn't think about it     Hybrid car   \n",
              "\n",
              "   Next car will be electric car? Income_bin  \n",
              "0                               5        Low  \n",
              "1                               5        Low  \n",
              "2                               5        Low  \n",
              "3                               5        Low  \n",
              "4                               5        Low  "
            ],
            "text/html": [
              "\n",
              "  <div id=\"df-9b85707d-d781-4183-a203-0fcbe11034f9\">\n",
              "    <div class=\"colab-df-container\">\n",
              "      <div>\n",
              "<style scoped>\n",
              "    .dataframe tbody tr th:only-of-type {\n",
              "        vertical-align: middle;\n",
              "    }\n",
              "\n",
              "    .dataframe tbody tr th {\n",
              "        vertical-align: top;\n",
              "    }\n",
              "\n",
              "    .dataframe thead th {\n",
              "        text-align: right;\n",
              "    }\n",
              "</style>\n",
              "<table border=\"1\" class=\"dataframe\">\n",
              "  <thead>\n",
              "    <tr style=\"text-align: right;\">\n",
              "      <th></th>\n",
              "      <th>Age</th>\n",
              "      <th>City</th>\n",
              "      <th>Gender</th>\n",
              "      <th>Education Level</th>\n",
              "      <th>Occupation</th>\n",
              "      <th>Family Members</th>\n",
              "      <th>Annual Income</th>\n",
              "      <th>Charging Hours</th>\n",
              "      <th>Electric Cars are economical</th>\n",
              "      <th>Charging stations</th>\n",
              "      <th>Convert your car to all electric</th>\n",
              "      <th>Hybrid or Both</th>\n",
              "      <th>Next car will be electric car?</th>\n",
              "      <th>Income_bin</th>\n",
              "    </tr>\n",
              "  </thead>\n",
              "  <tbody>\n",
              "    <tr>\n",
              "      <th>0</th>\n",
              "      <td>29</td>\n",
              "      <td>Kolkata</td>\n",
              "      <td>Male</td>\n",
              "      <td>3</td>\n",
              "      <td>2</td>\n",
              "      <td>5</td>\n",
              "      <td>150000</td>\n",
              "      <td>1</td>\n",
              "      <td>Yes</td>\n",
              "      <td>15</td>\n",
              "      <td>Yes</td>\n",
              "      <td>Hybrid car</td>\n",
              "      <td>5</td>\n",
              "      <td>Low</td>\n",
              "    </tr>\n",
              "    <tr>\n",
              "      <th>1</th>\n",
              "      <td>29</td>\n",
              "      <td>Mumbai</td>\n",
              "      <td>Male</td>\n",
              "      <td>1</td>\n",
              "      <td>2</td>\n",
              "      <td>4</td>\n",
              "      <td>1000000</td>\n",
              "      <td>1</td>\n",
              "      <td>Yes</td>\n",
              "      <td>8</td>\n",
              "      <td>Yes</td>\n",
              "      <td>Electric car</td>\n",
              "      <td>5</td>\n",
              "      <td>Low</td>\n",
              "    </tr>\n",
              "    <tr>\n",
              "      <th>2</th>\n",
              "      <td>25</td>\n",
              "      <td>Mumbai</td>\n",
              "      <td>Male</td>\n",
              "      <td>1</td>\n",
              "      <td>2</td>\n",
              "      <td>4</td>\n",
              "      <td>5000</td>\n",
              "      <td>5</td>\n",
              "      <td>Yes</td>\n",
              "      <td>15</td>\n",
              "      <td>Didn't think about it</td>\n",
              "      <td>Hybrid car</td>\n",
              "      <td>5</td>\n",
              "      <td>Low</td>\n",
              "    </tr>\n",
              "    <tr>\n",
              "      <th>3</th>\n",
              "      <td>25</td>\n",
              "      <td>Bangalore</td>\n",
              "      <td>Male</td>\n",
              "      <td>1</td>\n",
              "      <td>2</td>\n",
              "      <td>4</td>\n",
              "      <td>750000</td>\n",
              "      <td>1</td>\n",
              "      <td>Don't know</td>\n",
              "      <td>8</td>\n",
              "      <td>Didn't think about it</td>\n",
              "      <td>Hybrid car</td>\n",
              "      <td>5</td>\n",
              "      <td>Low</td>\n",
              "    </tr>\n",
              "    <tr>\n",
              "      <th>4</th>\n",
              "      <td>21</td>\n",
              "      <td>Mumbai</td>\n",
              "      <td>Male</td>\n",
              "      <td>3</td>\n",
              "      <td>1</td>\n",
              "      <td>4</td>\n",
              "      <td>5000</td>\n",
              "      <td>12</td>\n",
              "      <td>Don't know</td>\n",
              "      <td>15</td>\n",
              "      <td>Didn't think about it</td>\n",
              "      <td>Hybrid car</td>\n",
              "      <td>5</td>\n",
              "      <td>Low</td>\n",
              "    </tr>\n",
              "  </tbody>\n",
              "</table>\n",
              "</div>\n",
              "      <button class=\"colab-df-convert\" onclick=\"convertToInteractive('df-9b85707d-d781-4183-a203-0fcbe11034f9')\"\n",
              "              title=\"Convert this dataframe to an interactive table.\"\n",
              "              style=\"display:none;\">\n",
              "        \n",
              "  <svg xmlns=\"http://www.w3.org/2000/svg\" height=\"24px\"viewBox=\"0 0 24 24\"\n",
              "       width=\"24px\">\n",
              "    <path d=\"M0 0h24v24H0V0z\" fill=\"none\"/>\n",
              "    <path d=\"M18.56 5.44l.94 2.06.94-2.06 2.06-.94-2.06-.94-.94-2.06-.94 2.06-2.06.94zm-11 1L8.5 8.5l.94-2.06 2.06-.94-2.06-.94L8.5 2.5l-.94 2.06-2.06.94zm10 10l.94 2.06.94-2.06 2.06-.94-2.06-.94-.94-2.06-.94 2.06-2.06.94z\"/><path d=\"M17.41 7.96l-1.37-1.37c-.4-.4-.92-.59-1.43-.59-.52 0-1.04.2-1.43.59L10.3 9.45l-7.72 7.72c-.78.78-.78 2.05 0 2.83L4 21.41c.39.39.9.59 1.41.59.51 0 1.02-.2 1.41-.59l7.78-7.78 2.81-2.81c.8-.78.8-2.07 0-2.86zM5.41 20L4 18.59l7.72-7.72 1.47 1.35L5.41 20z\"/>\n",
              "  </svg>\n",
              "      </button>\n",
              "      \n",
              "  <style>\n",
              "    .colab-df-container {\n",
              "      display:flex;\n",
              "      flex-wrap:wrap;\n",
              "      gap: 12px;\n",
              "    }\n",
              "\n",
              "    .colab-df-convert {\n",
              "      background-color: #E8F0FE;\n",
              "      border: none;\n",
              "      border-radius: 50%;\n",
              "      cursor: pointer;\n",
              "      display: none;\n",
              "      fill: #1967D2;\n",
              "      height: 32px;\n",
              "      padding: 0 0 0 0;\n",
              "      width: 32px;\n",
              "    }\n",
              "\n",
              "    .colab-df-convert:hover {\n",
              "      background-color: #E2EBFA;\n",
              "      box-shadow: 0px 1px 2px rgba(60, 64, 67, 0.3), 0px 1px 3px 1px rgba(60, 64, 67, 0.15);\n",
              "      fill: #174EA6;\n",
              "    }\n",
              "\n",
              "    [theme=dark] .colab-df-convert {\n",
              "      background-color: #3B4455;\n",
              "      fill: #D2E3FC;\n",
              "    }\n",
              "\n",
              "    [theme=dark] .colab-df-convert:hover {\n",
              "      background-color: #434B5C;\n",
              "      box-shadow: 0px 1px 3px 1px rgba(0, 0, 0, 0.15);\n",
              "      filter: drop-shadow(0px 1px 2px rgba(0, 0, 0, 0.3));\n",
              "      fill: #FFFFFF;\n",
              "    }\n",
              "  </style>\n",
              "\n",
              "      <script>\n",
              "        const buttonEl =\n",
              "          document.querySelector('#df-9b85707d-d781-4183-a203-0fcbe11034f9 button.colab-df-convert');\n",
              "        buttonEl.style.display =\n",
              "          google.colab.kernel.accessAllowed ? 'block' : 'none';\n",
              "\n",
              "        async function convertToInteractive(key) {\n",
              "          const element = document.querySelector('#df-9b85707d-d781-4183-a203-0fcbe11034f9');\n",
              "          const dataTable =\n",
              "            await google.colab.kernel.invokeFunction('convertToInteractive',\n",
              "                                                     [key], {});\n",
              "          if (!dataTable) return;\n",
              "\n",
              "          const docLinkHtml = 'Like what you see? Visit the ' +\n",
              "            '<a target=\"_blank\" href=https://colab.research.google.com/notebooks/data_table.ipynb>data table notebook</a>'\n",
              "            + ' to learn more about interactive tables.';\n",
              "          element.innerHTML = '';\n",
              "          dataTable['output_type'] = 'display_data';\n",
              "          await google.colab.output.renderOutput(dataTable, element);\n",
              "          const docLink = document.createElement('div');\n",
              "          docLink.innerHTML = docLinkHtml;\n",
              "          element.appendChild(docLink);\n",
              "        }\n",
              "      </script>\n",
              "    </div>\n",
              "  </div>\n",
              "  "
            ]
          },
          "metadata": {},
          "execution_count": 51
        }
      ]
    },
    {
      "cell_type": "code",
      "source": [
        "data['Income_bin']"
      ],
      "metadata": {
        "colab": {
          "base_uri": "https://localhost:8080/"
        },
        "id": "g_YcDrIdQxdR",
        "outputId": "8d7c6b5c-ea8f-4655-c7d6-a49345c80025"
      },
      "execution_count": 52,
      "outputs": [
        {
          "output_type": "execute_result",
          "data": {
            "text/plain": [
              "0      Low\n",
              "1      Low\n",
              "2      Low\n",
              "3      Low\n",
              "4      Low\n",
              "      ... \n",
              "294    Low\n",
              "295    Low\n",
              "296    Low\n",
              "297    Low\n",
              "298    Low\n",
              "Name: Income_bin, Length: 299, dtype: category\n",
              "Categories (4, object): ['Low' < 'Average' < 'High' < 'Very high']"
            ]
          },
          "metadata": {},
          "execution_count": 52
        }
      ]
    },
    {
      "cell_type": "code",
      "source": [
        "data['Income_bin1']=data['Income_bin'].cat.codes"
      ],
      "metadata": {
        "id": "q5VjiTK-RVe2"
      },
      "execution_count": 53,
      "outputs": []
    },
    {
      "cell_type": "code",
      "source": [
        "data['Income_bin1'].unique()"
      ],
      "metadata": {
        "colab": {
          "base_uri": "https://localhost:8080/"
        },
        "id": "IKbNCjKqRXty",
        "outputId": "70a36d00-0886-42c9-84c3-18ee28660b88"
      },
      "execution_count": 54,
      "outputs": [
        {
          "output_type": "execute_result",
          "data": {
            "text/plain": [
              "array([0], dtype=int8)"
            ]
          },
          "metadata": {},
          "execution_count": 54
        }
      ]
    },
    {
      "cell_type": "code",
      "source": [
        "data['Annual Income'].describe()"
      ],
      "metadata": {
        "colab": {
          "base_uri": "https://localhost:8080/"
        },
        "id": "ds6iqnF1Rbtl",
        "outputId": "d00ddc55-f390-437c-bc65-b88fdec91986"
      },
      "execution_count": 55,
      "outputs": [
        {
          "output_type": "execute_result",
          "data": {
            "text/plain": [
              "count        299.000000\n",
              "mean      603812.709030\n",
              "std       387815.052751\n",
              "min         5000.000000\n",
              "25%       150000.000000\n",
              "50%       750000.000000\n",
              "75%      1000000.000000\n",
              "max      1000000.000000\n",
              "Name: Annual Income, dtype: float64"
            ]
          },
          "metadata": {},
          "execution_count": 55
        }
      ]
    },
    {
      "cell_type": "code",
      "source": [
        "sns.lmplot('Age ','Annual Income', data=data, fit_reg=False, hue=\"Income_bin1\", scatter_kws={\"marker\": \".\", \"s\": 20})\n",
        "plt.title('Scatterplot of people w.r.t Annual Income and Age')"
      ],
      "metadata": {
        "colab": {
          "base_uri": "https://localhost:8080/",
          "height": 446
        },
        "id": "ALAiTNmOReTh",
        "outputId": "ac41c3e8-9be4-47d8-9405-6a74793f59ce"
      },
      "execution_count": 56,
      "outputs": [
        {
          "output_type": "stream",
          "name": "stderr",
          "text": [
            "/usr/local/lib/python3.7/dist-packages/seaborn/_decorators.py:43: FutureWarning: Pass the following variables as keyword args: x, y. From version 0.12, the only valid positional argument will be `data`, and passing other arguments without an explicit keyword will result in an error or misinterpretation.\n",
            "  FutureWarning\n"
          ]
        },
        {
          "output_type": "execute_result",
          "data": {
            "text/plain": [
              "Text(0.5, 1.0, 'Scatterplot of people w.r.t Annual Income and Age')"
            ]
          },
          "metadata": {},
          "execution_count": 56
        },
        {
          "output_type": "display_data",
          "data": {
            "text/plain": [
              "<Figure size 431.375x360 with 1 Axes>"
            ],
            "image/png": "[encoded data removed]"
          },
          "metadata": {
            "needs_background": "light"
          }
        }
      ]
    },
    {
      "cell_type": "code",
      "source": [
        "sns.factorplot('Income_bin1', hue='Annual Income', kind='count', data=data);"
      ],
      "metadata": {
        "colab": {
          "base_uri": "https://localhost:8080/",
          "height": 458
        },
        "id": "HscuAiFaSpdJ",
        "outputId": "de2007d4-ca0b-4d20-8c5d-9b9d1f625c8a"
      },
      "execution_count": 57,
      "outputs": [
        {
          "output_type": "stream",
          "name": "stderr",
          "text": [
            "/usr/local/lib/python3.7/dist-packages/seaborn/categorical.py:3717: UserWarning: The `factorplot` function has been renamed to `catplot`. The original name will be removed in a future release. Please update your code. Note that the default `kind` in `factorplot` (`'point'`) has changed `'strip'` in `catplot`.\n",
            "  warnings.warn(msg)\n",
            "/usr/local/lib/python3.7/dist-packages/seaborn/_decorators.py:43: FutureWarning: Pass the following variable as a keyword arg: x. From version 0.12, the only valid positional argument will be `data`, and passing other arguments without an explicit keyword will result in an error or misinterpretation.\n",
            "  FutureWarning\n"
          ]
        },
        {
          "output_type": "display_data",
          "data": {
            "text/plain": [
              "<Figure size 442.625x360 with 1 Axes>"
            ],
            "image/png": "[encoded data removed]"
          },
          "metadata": {
            "needs_background": "light"
          }
        }
      ]
    },
    {
      "cell_type": "code",
      "source": [
        "plt.figure(figsize=(15, 5))\n",
        "plt.subplot(1, 2, 1)\n",
        "plt.title('Age and Annual Income')\n",
        "pic=sns.barplot(x='Age ', y='Income_bin1', data=data,palette='ocean')\n",
        "pic.set_xticklabels(pic.get_xticklabels(),rotation=90,ha='right')"
      ],
      "metadata": {
        "colab": {
          "base_uri": "https://localhost:8080/",
          "height": 925
        },
        "id": "AfO3N1hAS6qx",
        "outputId": "c5fead0d-5ac0-479e-acaa-35a82ffcb179"
      },
      "execution_count": 58,
      "outputs": [
        {
          "output_type": "execute_result",
          "data": {
            "text/plain": [
              "[Text(0, 0, '17'),\n",
              " Text(0, 0, '18'),\n",
              " Text(0, 0, '19'),\n",
              " Text(0, 0, '20'),\n",
              " Text(0, 0, '21'),\n",
              " Text(0, 0, '22'),\n",
              " Text(0, 0, '23'),\n",
              " Text(0, 0, '24'),\n",
              " Text(0, 0, '25'),\n",
              " Text(0, 0, '26'),\n",
              " Text(0, 0, '27'),\n",
              " Text(0, 0, '28'),\n",
              " Text(0, 0, '29'),\n",
              " Text(0, 0, '30'),\n",
              " Text(0, 0, '31'),\n",
              " Text(0, 0, '33'),\n",
              " Text(0, 0, '35'),\n",
              " Text(0, 0, '36'),\n",
              " Text(0, 0, '37'),\n",
              " Text(0, 0, '38'),\n",
              " Text(0, 0, '39'),\n",
              " Text(0, 0, '40'),\n",
              " Text(0, 0, '41'),\n",
              " Text(0, 0, '43'),\n",
              " Text(0, 0, '45'),\n",
              " Text(0, 0, '47'),\n",
              " Text(0, 0, '48'),\n",
              " Text(0, 0, '49'),\n",
              " Text(0, 0, '51'),\n",
              " Text(0, 0, '53'),\n",
              " Text(0, 0, '54'),\n",
              " Text(0, 0, '55'),\n",
              " Text(0, 0, '57')]"
            ]
          },
          "metadata": {},
          "execution_count": 58
        },
        {
          "output_type": "display_data",
          "data": {
            "text/plain": [
              "<Figure size 1080x360 with 1 Axes>"
            ],
            "image/png": "[encoded data removed]"
          },
          "metadata": {
            "needs_background": "light"
          }
        }
      ]
    },
    {
      "cell_type": "code",
      "source": [
        "x1 = data.loc[:,['Age ', 'Annual Income']].values\n",
        "from sklearn.cluster import KMeans\n",
        "wcss= []\n",
        "for k in range(1,11):\n",
        "  kmeans= KMeans(n_clusters=k, init='k-means++')\n",
        "  kmeans.fit(x1)\n",
        "  wcss.append(kmeans.inertia_)\n",
        "plt.figure(figsize=(12,6))\n",
        "plt.grid()\n",
        "plt.plot(range(1,11),wcss,linewidth=2,color='red',marker='8')\n",
        "plt.xlabel('K Value')\n",
        "plt.ylabel('WCSS')\n",
        "plt.show()"
      ],
      "metadata": {
        "id": "di3WRXdAToQd",
        "colab": {
          "base_uri": "https://localhost:8080/",
          "height": 399
        },
        "outputId": "2e4a1c8f-a684-4da3-fcd4-f5c686f1b48d"
      },
      "execution_count": 59,
      "outputs": [
        {
          "output_type": "display_data",
          "data": {
            "text/plain": [
              "<Figure size 864x432 with 1 Axes>"
            ],
            "image/png": "[encoded data removed]"
          },
          "metadata": {
            "needs_background": "light"
          }
        }
      ]
    },
    {
      "cell_type": "code",
      "source": [
        "kmeans = KMeans(n_clusters=3)\n",
        "label = kmeans.fit_predict(x1)\n",
        "print(label)"
      ],
      "metadata": {
        "colab": {
          "base_uri": "https://localhost:8080/"
        },
        "id": "D9I7SAZ6Tt2w",
        "outputId": "f64aab02-e755-4c8d-e398-67e3b784f908"
      },
      "execution_count": 60,
      "outputs": [
        {
          "output_type": "stream",
          "name": "stdout",
          "text": [
            "[1 2 1 0 1 1 0 0 0 0 2 1 2 0 0 1 0 1 1 2 1 2 0 2 1 0 1 1 0 0 0 2 2 2 0 0 0\n",
            " 0 2 2 0 0 0 0 2 0 0 0 2 2 1 1 2 0 0 2 2 0 0 0 1 1 0 0 2 2 1 1 2 2 2 0 0 2\n",
            " 2 1 2 1 0 0 0 0 1 1 1 1 2 1 1 2 1 1 1 1 0 0 0 2 1 0 1 1 0 0 0 0 2 1 2 0 0\n",
            " 1 0 1 1 2 1 2 0 2 1 0 1 1 0 0 0 2 2 2 0 0 0 0 2 2 0 0 0 0 2 0 0 0 2 2 1 1\n",
            " 2 0 0 2 2 0 0 0 1 1 0 0 2 2 1 1 2 2 2 0 0 2 2 1 2 1 0 0 0 0 1 1 1 1 2 1 1\n",
            " 2 1 1 1 1 0 0 0 2 1 0 1 1 0 0 0 0 2 1 2 0 0 1 0 1 1 2 1 2 0 2 1 0 1 1 0 0\n",
            " 0 2 2 2 0 0 0 0 2 2 0 0 0 0 2 0 0 0 2 2 1 1 2 0 0 2 2 0 0 0 1 1 0 0 2 2 1\n",
            " 1 2 2 2 0 0 2 2 1 2 1 0 0 0 0 1 1 1 1 2 1 1 2 1 1 1 1 0 0 0 2 1 0 1 1 0 0\n",
            " 0 0 2]\n"
          ]
        }
      ]
    },
    {
      "cell_type": "code",
      "source": [
        "print(kmeans.cluster_centers_)"
      ],
      "metadata": {
        "colab": {
          "base_uri": "https://localhost:8080/"
        },
        "id": "f1hCQLRtTyNn",
        "outputId": "d496c935-3da2-4a47-ee20-7f2f68689758"
      },
      "execution_count": 61,
      "outputs": [
        {
          "output_type": "stream",
          "name": "stdout",
          "text": [
            "[[3.24080000e+01 7.50000000e+05]\n",
            " [3.29450549e+01 4.16483516e+04]\n",
            " [3.41927711e+01 1.00000000e+06]]\n"
          ]
        }
      ]
    },
    {
      "cell_type": "code",
      "source": [
        "plt.scatter(x1[:,0],x1[:,1],c=kmeans.labels_,cmap='rainbow')\n",
        "plt.scatter(kmeans.cluster_centers_[:,0],kmeans.cluster_centers_[:,1],color='black')\n",
        "plt.title('cluster of customers')\n",
        "plt.xlabel('Age ')\n",
        "plt.ylabel('Anual Income')\n",
        "plt.show()"
      ],
      "metadata": {
        "id": "1mXGRfxeT2jk",
        "colab": {
          "base_uri": "https://localhost:8080/",
          "height": 295
        },
        "outputId": "5737f786-2842-4c92-b7b2-5424e6962462"
      },
      "execution_count": 79,
      "outputs": [
        {
          "output_type": "display_data",
          "data": {
            "text/plain": [
              "<Figure size 432x288 with 1 Axes>"
            ],
            "image/png": "[encoded data removed]"
          },
          "metadata": {
            "needs_background": "light"
          }
        }
      ]
    },
    {
      "cell_type": "code",
      "source": [
        "kmeans = KMeans(n_clusters=4)\n",
        "label = kmeans.fit_predict(x1)\n",
        "print(label)"
      ],
      "metadata": {
        "colab": {
          "base_uri": "https://localhost:8080/"
        },
        "id": "yn0_V600T5TE",
        "outputId": "920a2885-7fed-4001-ede2-12c622aca91f"
      },
      "execution_count": 63,
      "outputs": [
        {
          "output_type": "stream",
          "name": "stdout",
          "text": [
            "[3 2 1 0 1 3 0 0 0 0 2 1 2 0 0 1 0 3 1 2 1 2 0 2 1 0 1 1 0 0 0 2 2 2 0 0 0\n",
            " 0 2 2 0 0 0 0 2 0 0 0 2 2 1 1 2 0 0 2 2 0 0 0 3 1 0 0 2 2 3 3 2 2 2 0 0 2\n",
            " 2 1 2 1 0 0 0 0 1 1 3 1 2 1 3 2 1 1 1 1 0 0 0 2 1 0 1 3 0 0 0 0 2 1 2 0 0\n",
            " 1 0 3 1 2 1 2 0 2 1 0 1 1 0 0 0 2 2 2 0 0 0 0 2 2 0 0 0 0 2 0 0 0 2 2 1 1\n",
            " 2 0 0 2 2 0 0 0 3 1 0 0 2 2 3 3 2 2 2 0 0 2 2 1 2 1 0 0 0 0 1 1 3 1 2 1 3\n",
            " 2 1 1 1 1 0 0 0 2 1 0 1 3 0 0 0 0 2 1 2 0 0 1 0 3 1 2 1 2 0 2 1 0 1 1 0 0\n",
            " 0 2 2 2 0 0 0 0 2 2 0 0 0 0 2 0 0 0 2 2 1 1 2 0 0 2 2 0 0 0 3 1 0 0 2 2 3\n",
            " 3 2 2 2 0 0 2 2 1 2 1 0 0 0 0 1 1 3 1 2 1 3 2 1 1 1 1 0 0 0 2 1 0 1 3 0 0\n",
            " 0 0 2]\n"
          ]
        }
      ]
    },
    {
      "cell_type": "code",
      "source": [
        "print(kmeans.cluster_centers_)"
      ],
      "metadata": {
        "colab": {
          "base_uri": "https://localhost:8080/"
        },
        "id": "gRDCqy6DT-Wk",
        "outputId": "9a71fa71-94d1-4393-d244-85f737911c2c"
      },
      "execution_count": 64,
      "outputs": [
        {
          "output_type": "stream",
          "name": "stdout",
          "text": [
            "[[3.24080000e+01 7.50000000e+05]\n",
            " [3.29558824e+01 5.00000000e+03]\n",
            " [3.41927711e+01 1.00000000e+06]\n",
            " [3.29130435e+01 1.50000000e+05]]\n"
          ]
        }
      ]
    },
    {
      "cell_type": "code",
      "source": [
        "plt.scatter(x1[:,0],x1[:,1],c=kmeans.labels_,cmap='rainbow')\n",
        "plt.scatter(kmeans.cluster_centers_[:,0],kmeans.cluster_centers_[:,1],color='black')\n",
        "plt.title('cluster of customers')\n",
        "plt.xlabel('Age ')\n",
        "plt.ylabel('Price')\n",
        "plt.show()"
      ],
      "metadata": {
        "id": "sQ6AwMJwUBF0",
        "colab": {
          "base_uri": "https://localhost:8080/",
          "height": 295
        },
        "outputId": "0ceb729c-316c-42cf-d2ff-9ad58b1d1d42"
      },
      "execution_count": 65,
      "outputs": [
        {
          "output_type": "display_data",
          "data": {
            "text/plain": [
              "<Figure size 432x288 with 1 Axes>"
            ],
            "image/png": "[encoded data removed]"
          },
          "metadata": {
            "needs_background": "light"
          }
        }
      ]
    },
    {
      "cell_type": "code",
      "source": [
        "x2 = data.loc[:,['Age ', 'Education Level']].values\n",
        "from sklearn.cluster import KMeans\n",
        "wcss= []\n",
        "for k in range(1,11):\n",
        "  kmeans= KMeans(n_clusters=k, init='k-means++')\n",
        "  kmeans.fit(x2)\n",
        "  wcss.append(kmeans.inertia_)\n",
        "plt.figure(figsize=(12,6))\n",
        "plt.grid()\n",
        "plt.plot(range(1,11),wcss,linewidth=2,color='red',marker='8')\n",
        "plt.xlabel('K Value')\n",
        "plt.ylabel('WCSS')\n",
        "plt.show()"
      ],
      "metadata": {
        "id": "M9VYDgIDUFiQ",
        "colab": {
          "base_uri": "https://localhost:8080/",
          "height": 388
        },
        "outputId": "b3b21b40-5938-49cf-f92a-e74952fbd51d"
      },
      "execution_count": 66,
      "outputs": [
        {
          "output_type": "display_data",
          "data": {
            "text/plain": [
              "<Figure size 864x432 with 1 Axes>"
            ],
            "image/png": "[encoded data removed]"
          },
          "metadata": {
            "needs_background": "light"
          }
        }
      ]
    },
    {
      "cell_type": "code",
      "source": [
        "kmeans = KMeans(n_clusters=3)\n",
        "label = kmeans.fit_predict(x2)\n",
        "print(label)"
      ],
      "metadata": {
        "colab": {
          "base_uri": "https://localhost:8080/"
        },
        "id": "53i0vLIEUKvD",
        "outputId": "3c7e7aaf-80d0-48c7-ad87-7620b3fb3480"
      },
      "execution_count": 67,
      "outputs": [
        {
          "output_type": "stream",
          "name": "stdout",
          "text": [
            "[0 0 0 0 0 0 0 0 0 0 0 0 0 0 0 2 2 2 2 0 1 1 1 1 1 1 1 1 2 2 1 1 1 0 0 0 0\n",
            " 0 0 0 2 2 2 2 2 2 1 0 1 1 1 0 0 0 0 0 0 0 2 0 2 0 2 0 2 2 2 1 1 1 0 0 0 0\n",
            " 0 0 0 0 0 2 2 2 2 2 2 0 2 2 1 1 0 0 0 0 0 0 0 0 0 0 0 0 2 2 0 2 2 1 1 0 0\n",
            " 0 0 0 0 0 0 0 0 0 0 2 2 2 2 2 2 1 1 1 0 0 0 0 0 0 0 0 1 2 2 1 1 1 0 0 0 0\n",
            " 0 0 0 2 2 1 2 2 1 1 1 0 0 0 0 0 0 0 2 2 2 2 1 1 1 0 0 0 0 0 0 0 0 1 2 2 1\n",
            " 1 1 0 0 0 0 0 0 0 2 2 0 2 2 0 0 0 1 1 1 0 0 2 2 2 2 2 1 1 1 0 0 0 0 0 0 0\n",
            " 0 0 1 0 0 2 2 2 2 0 2 2 2 2 2 1 1 1 0 0 0 0 0 0 0 0 2 2 2 2 2 1 1 1 0 0 0\n",
            " 0 0 0 0 2 2 2 1 1 1 0 0 0 0 0 0 0 0 1 1 1 0 0 0 2 2 2 2 2 1 1 1 0 0 0 0 0\n",
            " 0 0 0]\n"
          ]
        }
      ]
    },
    {
      "cell_type": "code",
      "source": [
        "print(kmeans.cluster_centers_)"
      ],
      "metadata": {
        "colab": {
          "base_uri": "https://localhost:8080/"
        },
        "id": "0IOtNr3WUpMz",
        "outputId": "d6a34174-5bab-4d8c-fef4-39e169a6c4b7"
      },
      "execution_count": 68,
      "outputs": [
        {
          "output_type": "stream",
          "name": "stdout",
          "text": [
            "[[24.35443038  1.59493671]\n",
            " [48.35483871  1.56451613]\n",
            " [38.49367089  1.56962025]]\n"
          ]
        }
      ]
    },
    {
      "cell_type": "code",
      "source": [
        "plt.scatter(x2[:,0],x2[:,1],c=kmeans.labels_,cmap='rainbow')\n",
        "plt.scatter(kmeans.cluster_centers_[:,0],kmeans.cluster_centers_[:,1],color='black')\n",
        "plt.title('cluster of customers')\n",
        "plt.xlabel('Annual Income')\n",
        "plt.ylabel('Price')\n",
        "plt.show()"
      ],
      "metadata": {
        "id": "UlocQ4u8U60I",
        "colab": {
          "base_uri": "https://localhost:8080/",
          "height": 295
        },
        "outputId": "832de66a-ffff-43fd-e27e-c52c0bb79aed"
      },
      "execution_count": 69,
      "outputs": [
        {
          "output_type": "display_data",
          "data": {
            "text/plain": [
              "<Figure size 432x288 with 1 Axes>"
            ],
            "image/png": "[encoded data removed]"
          },
          "metadata": {
            "needs_background": "light"
          }
        }
      ]
    },
    {
      "cell_type": "code",
      "source": [
        "data.head()"
      ],
      "metadata": {
        "colab": {
          "base_uri": "https://localhost:8080/",
          "height": 389
        },
        "id": "BeQZEcQSVk30",
        "outputId": "c82325a8-9477-4996-fbfe-cb9eca17bc37"
      },
      "execution_count": 70,
      "outputs": [
        {
          "output_type": "execute_result",
          "data": {
            "text/plain": [
              "   Age        City Gender  Education Level  Occupation  Family Members  \\\n",
              "0    29    Kolkata   Male                3           2               5   \n",
              "1    29     Mumbai   Male                1           2               4   \n",
              "2    25     Mumbai   Male                1           2               4   \n",
              "3    25  Bangalore   Male                1           2               4   \n",
              "4    21     Mumbai   Male                3           1               4   \n",
              "\n",
              "   Annual Income  Charging Hours Electric Cars are economical  \\\n",
              "0         150000               1                          Yes   \n",
              "1        1000000               1                          Yes   \n",
              "2           5000               5                          Yes   \n",
              "3         750000               1                   Don't know   \n",
              "4           5000              12                   Don't know   \n",
              "\n",
              "   Charging stations Convert your car to all electric Hybrid or Both  \\\n",
              "0                 15                              Yes     Hybrid car   \n",
              "1                  8                              Yes   Electric car   \n",
              "2                 15            Didn't think about it     Hybrid car   \n",
              "3                  8            Didn't think about it     Hybrid car   \n",
              "4                 15            Didn't think about it     Hybrid car   \n",
              "\n",
              "   Next car will be electric car? Income_bin  Income_bin1  \n",
              "0                               5        Low            0  \n",
              "1                               5        Low            0  \n",
              "2                               5        Low            0  \n",
              "3                               5        Low            0  \n",
              "4                               5        Low            0  "
            ],
            "text/html": [
              "\n",
              "  <div id=\"df-8aaf96c5-b231-48d6-a541-e180adb35b13\">\n",
              "    <div class=\"colab-df-container\">\n",
              "      <div>\n",
              "<style scoped>\n",
              "    .dataframe tbody tr th:only-of-type {\n",
              "        vertical-align: middle;\n",
              "    }\n",
              "\n",
              "    .dataframe tbody tr th {\n",
              "        vertical-align: top;\n",
              "    }\n",
              "\n",
              "    .dataframe thead th {\n",
              "        text-align: right;\n",
              "    }\n",
              "</style>\n",
              "<table border=\"1\" class=\"dataframe\">\n",
              "  <thead>\n",
              "    <tr style=\"text-align: right;\">\n",
              "      <th></th>\n",
              "      <th>Age</th>\n",
              "      <th>City</th>\n",
              "      <th>Gender</th>\n",
              "      <th>Education Level</th>\n",
              "      <th>Occupation</th>\n",
              "      <th>Family Members</th>\n",
              "      <th>Annual Income</th>\n",
              "      <th>Charging Hours</th>\n",
              "      <th>Electric Cars are economical</th>\n",
              "      <th>Charging stations</th>\n",
              "      <th>Convert your car to all electric</th>\n",
              "      <th>Hybrid or Both</th>\n",
              "      <th>Next car will be electric car?</th>\n",
              "      <th>Income_bin</th>\n",
              "      <th>Income_bin1</th>\n",
              "    </tr>\n",
              "  </thead>\n",
              "  <tbody>\n",
              "    <tr>\n",
              "      <th>0</th>\n",
              "      <td>29</td>\n",
              "      <td>Kolkata</td>\n",
              "      <td>Male</td>\n",
              "      <td>3</td>\n",
              "      <td>2</td>\n",
              "      <td>5</td>\n",
              "      <td>150000</td>\n",
              "      <td>1</td>\n",
              "      <td>Yes</td>\n",
              "      <td>15</td>\n",
              "      <td>Yes</td>\n",
              "      <td>Hybrid car</td>\n",
              "      <td>5</td>\n",
              "      <td>Low</td>\n",
              "      <td>0</td>\n",
              "    </tr>\n",
              "    <tr>\n",
              "      <th>1</th>\n",
              "      <td>29</td>\n",
              "      <td>Mumbai</td>\n",
              "      <td>Male</td>\n",
              "      <td>1</td>\n",
              "      <td>2</td>\n",
              "      <td>4</td>\n",
              "      <td>1000000</td>\n",
              "      <td>1</td>\n",
              "      <td>Yes</td>\n",
              "      <td>8</td>\n",
              "      <td>Yes</td>\n",
              "      <td>Electric car</td>\n",
              "      <td>5</td>\n",
              "      <td>Low</td>\n",
              "      <td>0</td>\n",
              "    </tr>\n",
              "    <tr>\n",
              "      <th>2</th>\n",
              "      <td>25</td>\n",
              "      <td>Mumbai</td>\n",
              "      <td>Male</td>\n",
              "      <td>1</td>\n",
              "      <td>2</td>\n",
              "      <td>4</td>\n",
              "      <td>5000</td>\n",
              "      <td>5</td>\n",
              "      <td>Yes</td>\n",
              "      <td>15</td>\n",
              "      <td>Didn't think about it</td>\n",
              "      <td>Hybrid car</td>\n",
              "      <td>5</td>\n",
              "      <td>Low</td>\n",
              "      <td>0</td>\n",
              "    </tr>\n",
              "    <tr>\n",
              "      <th>3</th>\n",
              "      <td>25</td>\n",
              "      <td>Bangalore</td>\n",
              "      <td>Male</td>\n",
              "      <td>1</td>\n",
              "      <td>2</td>\n",
              "      <td>4</td>\n",
              "      <td>750000</td>\n",
              "      <td>1</td>\n",
              "      <td>Don't know</td>\n",
              "      <td>8</td>\n",
              "      <td>Didn't think about it</td>\n",
              "      <td>Hybrid car</td>\n",
              "      <td>5</td>\n",
              "      <td>Low</td>\n",
              "      <td>0</td>\n",
              "    </tr>\n",
              "    <tr>\n",
              "      <th>4</th>\n",
              "      <td>21</td>\n",
              "      <td>Mumbai</td>\n",
              "      <td>Male</td>\n",
              "      <td>3</td>\n",
              "      <td>1</td>\n",
              "      <td>4</td>\n",
              "      <td>5000</td>\n",
              "      <td>12</td>\n",
              "      <td>Don't know</td>\n",
              "      <td>15</td>\n",
              "      <td>Didn't think about it</td>\n",
              "      <td>Hybrid car</td>\n",
              "      <td>5</td>\n",
              "      <td>Low</td>\n",
              "      <td>0</td>\n",
              "    </tr>\n",
              "  </tbody>\n",
              "</table>\n",
              "</div>\n",
              "      <button class=\"colab-df-convert\" onclick=\"convertToInteractive('df-8aaf96c5-b231-48d6-a541-e180adb35b13')\"\n",
              "              title=\"Convert this dataframe to an interactive table.\"\n",
              "              style=\"display:none;\">\n",
              "        \n",
              "  <svg xmlns=\"http://www.w3.org/2000/svg\" height=\"24px\"viewBox=\"0 0 24 24\"\n",
              "       width=\"24px\">\n",
              "    <path d=\"M0 0h24v24H0V0z\" fill=\"none\"/>\n",
              "    <path d=\"M18.56 5.44l.94 2.06.94-2.06 2.06-.94-2.06-.94-.94-2.06-.94 2.06-2.06.94zm-11 1L8.5 8.5l.94-2.06 2.06-.94-2.06-.94L8.5 2.5l-.94 2.06-2.06.94zm10 10l.94 2.06.94-2.06 2.06-.94-2.06-.94-.94-2.06-.94 2.06-2.06.94z\"/><path d=\"M17.41 7.96l-1.37-1.37c-.4-.4-.92-.59-1.43-.59-.52 0-1.04.2-1.43.59L10.3 9.45l-7.72 7.72c-.78.78-.78 2.05 0 2.83L4 21.41c.39.39.9.59 1.41.59.51 0 1.02-.2 1.41-.59l7.78-7.78 2.81-2.81c.8-.78.8-2.07 0-2.86zM5.41 20L4 18.59l7.72-7.72 1.47 1.35L5.41 20z\"/>\n",
              "  </svg>\n",
              "      </button>\n",
              "      \n",
              "  <style>\n",
              "    .colab-df-container {\n",
              "      display:flex;\n",
              "      flex-wrap:wrap;\n",
              "      gap: 12px;\n",
              "    }\n",
              "\n",
              "    .colab-df-convert {\n",
              "      background-color: #E8F0FE;\n",
              "      border: none;\n",
              "      border-radius: 50%;\n",
              "      cursor: pointer;\n",
              "      display: none;\n",
              "      fill: #1967D2;\n",
              "      height: 32px;\n",
              "      padding: 0 0 0 0;\n",
              "      width: 32px;\n",
              "    }\n",
              "\n",
              "    .colab-df-convert:hover {\n",
              "      background-color: #E2EBFA;\n",
              "      box-shadow: 0px 1px 2px rgba(60, 64, 67, 0.3), 0px 1px 3px 1px rgba(60, 64, 67, 0.15);\n",
              "      fill: #174EA6;\n",
              "    }\n",
              "\n",
              "    [theme=dark] .colab-df-convert {\n",
              "      background-color: #3B4455;\n",
              "      fill: #D2E3FC;\n",
              "    }\n",
              "\n",
              "    [theme=dark] .colab-df-convert:hover {\n",
              "      background-color: #434B5C;\n",
              "      box-shadow: 0px 1px 3px 1px rgba(0, 0, 0, 0.15);\n",
              "      filter: drop-shadow(0px 1px 2px rgba(0, 0, 0, 0.3));\n",
              "      fill: #FFFFFF;\n",
              "    }\n",
              "  </style>\n",
              "\n",
              "      <script>\n",
              "        const buttonEl =\n",
              "          document.querySelector('#df-8aaf96c5-b231-48d6-a541-e180adb35b13 button.colab-df-convert');\n",
              "        buttonEl.style.display =\n",
              "          google.colab.kernel.accessAllowed ? 'block' : 'none';\n",
              "\n",
              "        async function convertToInteractive(key) {\n",
              "          const element = document.querySelector('#df-8aaf96c5-b231-48d6-a541-e180adb35b13');\n",
              "          const dataTable =\n",
              "            await google.colab.kernel.invokeFunction('convertToInteractive',\n",
              "                                                     [key], {});\n",
              "          if (!dataTable) return;\n",
              "\n",
              "          const docLinkHtml = 'Like what you see? Visit the ' +\n",
              "            '<a target=\"_blank\" href=https://colab.research.google.com/notebooks/data_table.ipynb>data table notebook</a>'\n",
              "            + ' to learn more about interactive tables.';\n",
              "          element.innerHTML = '';\n",
              "          dataTable['output_type'] = 'display_data';\n",
              "          await google.colab.output.renderOutput(dataTable, element);\n",
              "          const docLink = document.createElement('div');\n",
              "          docLink.innerHTML = docLinkHtml;\n",
              "          element.appendChild(docLink);\n",
              "        }\n",
              "      </script>\n",
              "    </div>\n",
              "  </div>\n",
              "  "
            ]
          },
          "metadata": {},
          "execution_count": 70
        }
      ]
    },
    {
      "cell_type": "code",
      "source": [
        "df = data.drop(columns = ['Income_bin', 'Income_bin1',])"
      ],
      "metadata": {
        "id": "KRmQBO8eVth7"
      },
      "execution_count": 71,
      "outputs": []
    },
    {
      "cell_type": "code",
      "source": [
        "df.head()"
      ],
      "metadata": {
        "colab": {
          "base_uri": "https://localhost:8080/",
          "height": 302
        },
        "id": "2JD9YEJQV4EN",
        "outputId": "37c7f5ab-0d3d-43ab-e506-2a9c9ee0b0e1"
      },
      "execution_count": 72,
      "outputs": [
        {
          "output_type": "execute_result",
          "data": {
            "text/plain": [
              "   Age        City Gender  Education Level  Occupation  Family Members  \\\n",
              "0    29    Kolkata   Male                3           2               5   \n",
              "1    29     Mumbai   Male                1           2               4   \n",
              "2    25     Mumbai   Male                1           2               4   \n",
              "3    25  Bangalore   Male                1           2               4   \n",
              "4    21     Mumbai   Male                3           1               4   \n",
              "\n",
              "   Annual Income  Charging Hours Electric Cars are economical  \\\n",
              "0         150000               1                          Yes   \n",
              "1        1000000               1                          Yes   \n",
              "2           5000               5                          Yes   \n",
              "3         750000               1                   Don't know   \n",
              "4           5000              12                   Don't know   \n",
              "\n",
              "   Charging stations Convert your car to all electric Hybrid or Both  \\\n",
              "0                 15                              Yes     Hybrid car   \n",
              "1                  8                              Yes   Electric car   \n",
              "2                 15            Didn't think about it     Hybrid car   \n",
              "3                  8            Didn't think about it     Hybrid car   \n",
              "4                 15            Didn't think about it     Hybrid car   \n",
              "\n",
              "   Next car will be electric car?  \n",
              "0                               5  \n",
              "1                               5  \n",
              "2                               5  \n",
              "3                               5  \n",
              "4                               5  "
            ],
            "text/html": [
              "\n",
              "  <div id=\"df-feba9f05-b981-4d12-8a73-632507c60d8f\">\n",
              "    <div class=\"colab-df-container\">\n",
              "      <div>\n",
              "<style scoped>\n",
              "    .dataframe tbody tr th:only-of-type {\n",
              "        vertical-align: middle;\n",
              "    }\n",
              "\n",
              "    .dataframe tbody tr th {\n",
              "        vertical-align: top;\n",
              "    }\n",
              "\n",
              "    .dataframe thead th {\n",
              "        text-align: right;\n",
              "    }\n",
              "</style>\n",
              "<table border=\"1\" class=\"dataframe\">\n",
              "  <thead>\n",
              "    <tr style=\"text-align: right;\">\n",
              "      <th></th>\n",
              "      <th>Age</th>\n",
              "      <th>City</th>\n",
              "      <th>Gender</th>\n",
              "      <th>Education Level</th>\n",
              "      <th>Occupation</th>\n",
              "      <th>Family Members</th>\n",
              "      <th>Annual Income</th>\n",
              "      <th>Charging Hours</th>\n",
              "      <th>Electric Cars are economical</th>\n",
              "      <th>Charging stations</th>\n",
              "      <th>Convert your car to all electric</th>\n",
              "      <th>Hybrid or Both</th>\n",
              "      <th>Next car will be electric car?</th>\n",
              "    </tr>\n",
              "  </thead>\n",
              "  <tbody>\n",
              "    <tr>\n",
              "      <th>0</th>\n",
              "      <td>29</td>\n",
              "      <td>Kolkata</td>\n",
              "      <td>Male</td>\n",
              "      <td>3</td>\n",
              "      <td>2</td>\n",
              "      <td>5</td>\n",
              "      <td>150000</td>\n",
              "      <td>1</td>\n",
              "      <td>Yes</td>\n",
              "      <td>15</td>\n",
              "      <td>Yes</td>\n",
              "      <td>Hybrid car</td>\n",
              "      <td>5</td>\n",
              "    </tr>\n",
              "    <tr>\n",
              "      <th>1</th>\n",
              "      <td>29</td>\n",
              "      <td>Mumbai</td>\n",
              "      <td>Male</td>\n",
              "      <td>1</td>\n",
              "      <td>2</td>\n",
              "      <td>4</td>\n",
              "      <td>1000000</td>\n",
              "      <td>1</td>\n",
              "      <td>Yes</td>\n",
              "      <td>8</td>\n",
              "      <td>Yes</td>\n",
              "      <td>Electric car</td>\n",
              "      <td>5</td>\n",
              "    </tr>\n",
              "    <tr>\n",
              "      <th>2</th>\n",
              "      <td>25</td>\n",
              "      <td>Mumbai</td>\n",
              "      <td>Male</td>\n",
              "      <td>1</td>\n",
              "      <td>2</td>\n",
              "      <td>4</td>\n",
              "      <td>5000</td>\n",
              "      <td>5</td>\n",
              "      <td>Yes</td>\n",
              "      <td>15</td>\n",
              "      <td>Didn't think about it</td>\n",
              "      <td>Hybrid car</td>\n",
              "      <td>5</td>\n",
              "    </tr>\n",
              "    <tr>\n",
              "      <th>3</th>\n",
              "      <td>25</td>\n",
              "      <td>Bangalore</td>\n",
              "      <td>Male</td>\n",
              "      <td>1</td>\n",
              "      <td>2</td>\n",
              "      <td>4</td>\n",
              "      <td>750000</td>\n",
              "      <td>1</td>\n",
              "      <td>Don't know</td>\n",
              "      <td>8</td>\n",
              "      <td>Didn't think about it</td>\n",
              "      <td>Hybrid car</td>\n",
              "      <td>5</td>\n",
              "    </tr>\n",
              "    <tr>\n",
              "      <th>4</th>\n",
              "      <td>21</td>\n",
              "      <td>Mumbai</td>\n",
              "      <td>Male</td>\n",
              "      <td>3</td>\n",
              "      <td>1</td>\n",
              "      <td>4</td>\n",
              "      <td>5000</td>\n",
              "      <td>12</td>\n",
              "      <td>Don't know</td>\n",
              "      <td>15</td>\n",
              "      <td>Didn't think about it</td>\n",
              "      <td>Hybrid car</td>\n",
              "      <td>5</td>\n",
              "    </tr>\n",
              "  </tbody>\n",
              "</table>\n",
              "</div>\n",
              "      <button class=\"colab-df-convert\" onclick=\"convertToInteractive('df-feba9f05-b981-4d12-8a73-632507c60d8f')\"\n",
              "              title=\"Convert this dataframe to an interactive table.\"\n",
              "              style=\"display:none;\">\n",
              "        \n",
              "  <svg xmlns=\"http://www.w3.org/2000/svg\" height=\"24px\"viewBox=\"0 0 24 24\"\n",
              "       width=\"24px\">\n",
              "    <path d=\"M0 0h24v24H0V0z\" fill=\"none\"/>\n",
              "    <path d=\"M18.56 5.44l.94 2.06.94-2.06 2.06-.94-2.06-.94-.94-2.06-.94 2.06-2.06.94zm-11 1L8.5 8.5l.94-2.06 2.06-.94-2.06-.94L8.5 2.5l-.94 2.06-2.06.94zm10 10l.94 2.06.94-2.06 2.06-.94-2.06-.94-.94-2.06-.94 2.06-2.06.94z\"/><path d=\"M17.41 7.96l-1.37-1.37c-.4-.4-.92-.59-1.43-.59-.52 0-1.04.2-1.43.59L10.3 9.45l-7.72 7.72c-.78.78-.78 2.05 0 2.83L4 21.41c.39.39.9.59 1.41.59.51 0 1.02-.2 1.41-.59l7.78-7.78 2.81-2.81c.8-.78.8-2.07 0-2.86zM5.41 20L4 18.59l7.72-7.72 1.47 1.35L5.41 20z\"/>\n",
              "  </svg>\n",
              "      </button>\n",
              "      \n",
              "  <style>\n",
              "    .colab-df-container {\n",
              "      display:flex;\n",
              "      flex-wrap:wrap;\n",
              "      gap: 12px;\n",
              "    }\n",
              "\n",
              "    .colab-df-convert {\n",
              "      background-color: #E8F0FE;\n",
              "      border: none;\n",
              "      border-radius: 50%;\n",
              "      cursor: pointer;\n",
              "      display: none;\n",
              "      fill: #1967D2;\n",
              "      height: 32px;\n",
              "      padding: 0 0 0 0;\n",
              "      width: 32px;\n",
              "    }\n",
              "\n",
              "    .colab-df-convert:hover {\n",
              "      background-color: #E2EBFA;\n",
              "      box-shadow: 0px 1px 2px rgba(60, 64, 67, 0.3), 0px 1px 3px 1px rgba(60, 64, 67, 0.15);\n",
              "      fill: #174EA6;\n",
              "    }\n",
              "\n",
              "    [theme=dark] .colab-df-convert {\n",
              "      background-color: #3B4455;\n",
              "      fill: #D2E3FC;\n",
              "    }\n",
              "\n",
              "    [theme=dark] .colab-df-convert:hover {\n",
              "      background-color: #434B5C;\n",
              "      box-shadow: 0px 1px 3px 1px rgba(0, 0, 0, 0.15);\n",
              "      filter: drop-shadow(0px 1px 2px rgba(0, 0, 0, 0.3));\n",
              "      fill: #FFFFFF;\n",
              "    }\n",
              "  </style>\n",
              "\n",
              "      <script>\n",
              "        const buttonEl =\n",
              "          document.querySelector('#df-feba9f05-b981-4d12-8a73-632507c60d8f button.colab-df-convert');\n",
              "        buttonEl.style.display =\n",
              "          google.colab.kernel.accessAllowed ? 'block' : 'none';\n",
              "\n",
              "        async function convertToInteractive(key) {\n",
              "          const element = document.querySelector('#df-feba9f05-b981-4d12-8a73-632507c60d8f');\n",
              "          const dataTable =\n",
              "            await google.colab.kernel.invokeFunction('convertToInteractive',\n",
              "                                                     [key], {});\n",
              "          if (!dataTable) return;\n",
              "\n",
              "          const docLinkHtml = 'Like what you see? Visit the ' +\n",
              "            '<a target=\"_blank\" href=https://colab.research.google.com/notebooks/data_table.ipynb>data table notebook</a>'\n",
              "            + ' to learn more about interactive tables.';\n",
              "          element.innerHTML = '';\n",
              "          dataTable['output_type'] = 'display_data';\n",
              "          await google.colab.output.renderOutput(dataTable, element);\n",
              "          const docLink = document.createElement('div');\n",
              "          docLink.innerHTML = docLinkHtml;\n",
              "          element.appendChild(docLink);\n",
              "        }\n",
              "      </script>\n",
              "    </div>\n",
              "  </div>\n",
              "  "
            ]
          },
          "metadata": {},
          "execution_count": 72
        }
      ]
    },
    {
      "cell_type": "code",
      "source": [
        "df=df.drop(columns=['Hybrid or Both'])"
      ],
      "metadata": {
        "id": "TZmp0OHzV8p0"
      },
      "execution_count": 73,
      "outputs": []
    },
    {
      "cell_type": "code",
      "source": [
        "df1= df.drop(columns=['Occupation','Gender', 'Education Level', 'Family Members', 'City','Electric Cars are economical','Convert your car to all electric','Charging Hours','Charging stations','Next car will be electric car?' ])"
      ],
      "metadata": {
        "id": "RsNNR5BQWXCM"
      },
      "execution_count": 74,
      "outputs": []
    },
    {
      "cell_type": "code",
      "source": [
        "df1.head()"
      ],
      "metadata": {
        "colab": {
          "base_uri": "https://localhost:8080/",
          "height": 206
        },
        "id": "Fycqol6qW8gK",
        "outputId": "0aabbc02-1375-465c-8982-b3686f1a3a6b"
      },
      "execution_count": 75,
      "outputs": [
        {
          "output_type": "execute_result",
          "data": {
            "text/plain": [
              "   Age   Annual Income\n",
              "0    29         150000\n",
              "1    29        1000000\n",
              "2    25           5000\n",
              "3    25         750000\n",
              "4    21           5000"
            ],
            "text/html": [
              "\n",
              "  <div id=\"df-dd3ebdd1-29bb-44fa-983e-ffda0d9cdc10\">\n",
              "    <div class=\"colab-df-container\">\n",
              "      <div>\n",
              "<style scoped>\n",
              "    .dataframe tbody tr th:only-of-type {\n",
              "        vertical-align: middle;\n",
              "    }\n",
              "\n",
              "    .dataframe tbody tr th {\n",
              "        vertical-align: top;\n",
              "    }\n",
              "\n",
              "    .dataframe thead th {\n",
              "        text-align: right;\n",
              "    }\n",
              "</style>\n",
              "<table border=\"1\" class=\"dataframe\">\n",
              "  <thead>\n",
              "    <tr style=\"text-align: right;\">\n",
              "      <th></th>\n",
              "      <th>Age</th>\n",
              "      <th>Annual Income</th>\n",
              "    </tr>\n",
              "  </thead>\n",
              "  <tbody>\n",
              "    <tr>\n",
              "      <th>0</th>\n",
              "      <td>29</td>\n",
              "      <td>150000</td>\n",
              "    </tr>\n",
              "    <tr>\n",
              "      <th>1</th>\n",
              "      <td>29</td>\n",
              "      <td>1000000</td>\n",
              "    </tr>\n",
              "    <tr>\n",
              "      <th>2</th>\n",
              "      <td>25</td>\n",
              "      <td>5000</td>\n",
              "    </tr>\n",
              "    <tr>\n",
              "      <th>3</th>\n",
              "      <td>25</td>\n",
              "      <td>750000</td>\n",
              "    </tr>\n",
              "    <tr>\n",
              "      <th>4</th>\n",
              "      <td>21</td>\n",
              "      <td>5000</td>\n",
              "    </tr>\n",
              "  </tbody>\n",
              "</table>\n",
              "</div>\n",
              "      <button class=\"colab-df-convert\" onclick=\"convertToInteractive('df-dd3ebdd1-29bb-44fa-983e-ffda0d9cdc10')\"\n",
              "              title=\"Convert this dataframe to an interactive table.\"\n",
              "              style=\"display:none;\">\n",
              "        \n",
              "  <svg xmlns=\"http://www.w3.org/2000/svg\" height=\"24px\"viewBox=\"0 0 24 24\"\n",
              "       width=\"24px\">\n",
              "    <path d=\"M0 0h24v24H0V0z\" fill=\"none\"/>\n",
              "    <path d=\"M18.56 5.44l.94 2.06.94-2.06 2.06-.94-2.06-.94-.94-2.06-.94 2.06-2.06.94zm-11 1L8.5 8.5l.94-2.06 2.06-.94-2.06-.94L8.5 2.5l-.94 2.06-2.06.94zm10 10l.94 2.06.94-2.06 2.06-.94-2.06-.94-.94-2.06-.94 2.06-2.06.94z\"/><path d=\"M17.41 7.96l-1.37-1.37c-.4-.4-.92-.59-1.43-.59-.52 0-1.04.2-1.43.59L10.3 9.45l-7.72 7.72c-.78.78-.78 2.05 0 2.83L4 21.41c.39.39.9.59 1.41.59.51 0 1.02-.2 1.41-.59l7.78-7.78 2.81-2.81c.8-.78.8-2.07 0-2.86zM5.41 20L4 18.59l7.72-7.72 1.47 1.35L5.41 20z\"/>\n",
              "  </svg>\n",
              "      </button>\n",
              "      \n",
              "  <style>\n",
              "    .colab-df-container {\n",
              "      display:flex;\n",
              "      flex-wrap:wrap;\n",
              "      gap: 12px;\n",
              "    }\n",
              "\n",
              "    .colab-df-convert {\n",
              "      background-color: #E8F0FE;\n",
              "      border: none;\n",
              "      border-radius: 50%;\n",
              "      cursor: pointer;\n",
              "      display: none;\n",
              "      fill: #1967D2;\n",
              "      height: 32px;\n",
              "      padding: 0 0 0 0;\n",
              "      width: 32px;\n",
              "    }\n",
              "\n",
              "    .colab-df-convert:hover {\n",
              "      background-color: #E2EBFA;\n",
              "      box-shadow: 0px 1px 2px rgba(60, 64, 67, 0.3), 0px 1px 3px 1px rgba(60, 64, 67, 0.15);\n",
              "      fill: #174EA6;\n",
              "    }\n",
              "\n",
              "    [theme=dark] .colab-df-convert {\n",
              "      background-color: #3B4455;\n",
              "      fill: #D2E3FC;\n",
              "    }\n",
              "\n",
              "    [theme=dark] .colab-df-convert:hover {\n",
              "      background-color: #434B5C;\n",
              "      box-shadow: 0px 1px 3px 1px rgba(0, 0, 0, 0.15);\n",
              "      filter: drop-shadow(0px 1px 2px rgba(0, 0, 0, 0.3));\n",
              "      fill: #FFFFFF;\n",
              "    }\n",
              "  </style>\n",
              "\n",
              "      <script>\n",
              "        const buttonEl =\n",
              "          document.querySelector('#df-dd3ebdd1-29bb-44fa-983e-ffda0d9cdc10 button.colab-df-convert');\n",
              "        buttonEl.style.display =\n",
              "          google.colab.kernel.accessAllowed ? 'block' : 'none';\n",
              "\n",
              "        async function convertToInteractive(key) {\n",
              "          const element = document.querySelector('#df-dd3ebdd1-29bb-44fa-983e-ffda0d9cdc10');\n",
              "          const dataTable =\n",
              "            await google.colab.kernel.invokeFunction('convertToInteractive',\n",
              "                                                     [key], {});\n",
              "          if (!dataTable) return;\n",
              "\n",
              "          const docLinkHtml = 'Like what you see? Visit the ' +\n",
              "            '<a target=\"_blank\" href=https://colab.research.google.com/notebooks/data_table.ipynb>data table notebook</a>'\n",
              "            + ' to learn more about interactive tables.';\n",
              "          element.innerHTML = '';\n",
              "          dataTable['output_type'] = 'display_data';\n",
              "          await google.colab.output.renderOutput(dataTable, element);\n",
              "          const docLink = document.createElement('div');\n",
              "          docLink.innerHTML = docLinkHtml;\n",
              "          element.appendChild(docLink);\n",
              "        }\n",
              "      </script>\n",
              "    </div>\n",
              "  </div>\n",
              "  "
            ]
          },
          "metadata": {},
          "execution_count": 75
        }
      ]
    },
    {
      "cell_type": "code",
      "source": [
        "x5 = df1.iloc[:,0:]\n",
        "wcss= []\n",
        "for k in range(1,11):\n",
        "  kmeans= KMeans(n_clusters=k, init='k-means++')\n",
        "  kmeans.fit(x5)\n",
        "  wcss.append(kmeans.inertia_)\n",
        "plt.figure(figsize=(12,6))\n",
        "plt.grid()\n",
        "plt.plot(range(1,11),wcss,linewidth=2,color='red',marker='8')\n",
        "plt.xlabel('K Value')\n",
        "plt.ylabel('WCSS')\n",
        "plt.show()"
      ],
      "metadata": {
        "id": "PUTlZhC3XWPN",
        "colab": {
          "base_uri": "https://localhost:8080/",
          "height": 399
        },
        "outputId": "61f727a6-2718-467b-9a52-9cefc42fc195"
      },
      "execution_count": 76,
      "outputs": [
        {
          "output_type": "display_data",
          "data": {
            "text/plain": [
              "<Figure size 864x432 with 1 Axes>"
            ],
            "image/png": "[encoded data removed]"
          },
          "metadata": {
            "needs_background": "light"
          }
        }
      ]
    },
    {
      "cell_type": "code",
      "source": [
        "kmeans = KMeans(n_clusters=3)\n",
        "label = kmeans.fit_predict(x5)\n",
        "print(label)"
      ],
      "metadata": {
        "colab": {
          "base_uri": "https://localhost:8080/"
        },
        "id": "IkTRtfAWXhO9",
        "outputId": "df913c02-65d1-492e-f481-a952432b3556"
      },
      "execution_count": 77,
      "outputs": [
        {
          "output_type": "stream",
          "name": "stdout",
          "text": [
            "[1 2 1 0 1 1 0 0 0 0 2 1 2 0 0 1 0 1 1 2 1 2 0 2 1 0 1 1 0 0 0 2 2 2 0 0 0\n",
            " 0 2 2 0 0 0 0 2 0 0 0 2 2 1 1 2 0 0 2 2 0 0 0 1 1 0 0 2 2 1 1 2 2 2 0 0 2\n",
            " 2 1 2 1 0 0 0 0 1 1 1 1 2 1 1 2 1 1 1 1 0 0 0 2 1 0 1 1 0 0 0 0 2 1 2 0 0\n",
            " 1 0 1 1 2 1 2 0 2 1 0 1 1 0 0 0 2 2 2 0 0 0 0 2 2 0 0 0 0 2 0 0 0 2 2 1 1\n",
            " 2 0 0 2 2 0 0 0 1 1 0 0 2 2 1 1 2 2 2 0 0 2 2 1 2 1 0 0 0 0 1 1 1 1 2 1 1\n",
            " 2 1 1 1 1 0 0 0 2 1 0 1 1 0 0 0 0 2 1 2 0 0 1 0 1 1 2 1 2 0 2 1 0 1 1 0 0\n",
            " 0 2 2 2 0 0 0 0 2 2 0 0 0 0 2 0 0 0 2 2 1 1 2 0 0 2 2 0 0 0 1 1 0 0 2 2 1\n",
            " 1 2 2 2 0 0 2 2 1 2 1 0 0 0 0 1 1 1 1 2 1 1 2 1 1 1 1 0 0 0 2 1 0 1 1 0 0\n",
            " 0 0 2]\n"
          ]
        }
      ]
    },
    {
      "cell_type": "code",
      "source": [
        "print(kmeans.cluster_centers_)"
      ],
      "metadata": {
        "colab": {
          "base_uri": "https://localhost:8080/"
        },
        "id": "SHi3zTjmXmNf",
        "outputId": "a6b21458-d9f3-437f-eace-65e6a7036332"
      },
      "execution_count": 78,
      "outputs": [
        {
          "output_type": "stream",
          "name": "stdout",
          "text": [
            "[[3.24080000e+01 7.50000000e+05]\n",
            " [3.29450549e+01 4.16483516e+04]\n",
            " [3.41927711e+01 1.00000000e+06]]\n"
          ]
        }
      ]
    }
  ]
}